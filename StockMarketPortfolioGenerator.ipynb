{
 "cells": [
  {
   "cell_type": "markdown",
   "metadata": {
    "hideCode": false,
    "hidePrompt": false
   },
   "source": [
    "# Stock Market Portfolio Generator\n",
    "\n",
    "![](banner_project.jpg)"
   ]
  },
  {
   "cell_type": "code",
   "execution_count": 2,
   "metadata": {
    "hide_input": false
   },
   "outputs": [
    {
     "data": {
      "text/html": [
       "<p style=\"text-align:center; font-size:10px;\">\n",
       ".................................................... start of document ....................................................\n",
       "</p>"
      ]
     },
     "metadata": {},
     "output_type": "display_data"
    }
   ],
   "source": [
    "f = \"setup.R\"; for (i in 1:10) { if (file.exists(f)) break else f = paste0(\"../\", f) }; source(f)\n",
    "options(repr.matrix.max.rows=674)\n",
    "options(repr.matrix.max.cols=200)\n",
    "update_geom_defaults(\"point\", list(size=1))                                "
   ]
  },
  {
   "cell_type": "markdown",
   "metadata": {},
   "source": [
    "## Overview"
   ]
  },
  {
   "cell_type": "markdown",
   "metadata": {},
   "source": [
    "### Objective\n",
    "\n",
    "Recommend a portfolio of 12 company investments that maximizes 12-month return of an overall $1,000,000 investment made at the end of quarter 4 of year 2018."
   ]
  },
  {
   "cell_type": "markdown",
   "metadata": {},
   "source": [
    "### Approach\n",
    "\n",
    "* Explore company fundamentals data for thousands of companies from quarters 1, 2, 3, and 4 of year 2017 + company stock price data for those companies from quarter 4 of year 2018.\n",
    "\n",
    "\n",
    "* Explore various ways of representing the data, using variable selection, principal component analysis, cluster analysis, and other methods.\n",
    "\n",
    "\n",
    "* Construct models to predict 12-month stock price growth given 12 months of past company fundamentals data, using various machine learning model construction methods.\n",
    "\n",
    "\n",
    "* Develop criteria to choose company investment levels informed by the models, and estimate the models' business performance.\n",
    "\n",
    "\n",
    "* Tune the models for optimal performance and select the best one.\n",
    "\n",
    "\n",
    "* Use the best model applied to company fundamentals data for a set of investment opportunities for quarters 1, 2, 3, and 4 of year 2018, and accordingly recommend a portfolio of 12 company investments."
   ]
  },
  {
   "cell_type": "markdown",
   "metadata": {},
   "source": [
    "### Data\n",
    "\n",
    "**Datasets:**<br>\n",
    "Datasets comprise a list of company investment opportunities, a data dictionary, and company fundamentals for select US active, publicly held companies that reported quarterly measures including stock prices for 1st, 2nd, 3rd, and 4th quarters in years 2017 and 2018.  All non-missing stock prices exceed $3 per share.  File formats are all comma-separated values (CSV).\n",
    "\n",
    "* Data Dictionary.csv\n",
    "* Company Fundamentals 2017.csv\n",
    "* Company Fundamentals 2018.csv\n",
    "* Investment Opportunities.csv\n",
    "\n",
    "\n",
    "**Data Source:**<br>\n",
    "Wharton Research Data Services > Compustat - Capital IQ from Standard & Poor's > North America - Daily > Fundamentals Quarterly (https://wrds-www.wharton.upenn.edu/)\n",
    "\n",
    "* Date Variable: Data Date\n",
    "* Date Range: 2017-01 to 2017-12 -or- 2018-01 to 2018-12\n",
    "* Company Codes: Search the entire database\n",
    "  * Consolidtaion Level: C, Output\n",
    "  * Industry Format: INDL, FS, Output\n",
    "  * Data Format: STD, Output\n",
    "  * Population Source: D, Output\n",
    "  * Quarter Type: Fiscal View, Output\n",
    "  * Currency: USD, Output (not CAD)\n",
    "  * Company Status: Active, Output (not Inactive)\n",
    "* Variable Types: Data Items, Select All (674)\n",
    "* Query output:\n",
    "  * Output format: comma-delimited text\n",
    "  * Compression type: None\n",
    "  * Data format: MMDDYY10\n",
    "  \n",
    "  \n",
    "* For Data Dictionary: Variable Descriptions tab, copy to excel, save as csv\n",
    "\n",
    "<br>\n",
    "\n"
   ]
  },
  {
   "cell_type": "markdown",
   "metadata": {},
   "source": [
    "## Business Model\n",
    "\n",
    "Business model is ...\n",
    "\n",
    "$$ \\begin{align} profit = \\left( \\sum_{i \\in portfolio} (1 + growth_i) \\times allocation_i \\right) - budget \\end{align} $$\n",
    "\n",
    "<br>\n",
    "\n",
    "$$ profit\\,rate = profit \\div budget $$\n",
    "\n",
    "\n",
    "$$ \\begin{align} budget = \\sum_{i \\in portfolio} allocation_i \\end{align} $$\n",
    "\n",
    "\n",
    "Business model parameters include ...\n",
    "\n",
    "* Budget = \\$1,000,000: total investment to allocate across the companies in the portfolio\n",
    "* Portfolio Size = 12: number of companies in the portfolio\n",
    "\n"
   ]
  },
  {
   "cell_type": "code",
   "execution_count": 3,
   "metadata": {},
   "outputs": [],
   "source": [
    "# Setting business parameters.\n",
    "budget = 1000000\n",
    "portfolio_size = 12\n",
    "threshold = .3"
   ]
  },
  {
   "cell_type": "markdown",
   "metadata": {},
   "source": [
    "## Data Retrieval\n",
    "\n"
   ]
  },
  {
   "cell_type": "markdown",
   "metadata": {},
   "source": [
    "### Data Dictionary\n",
    "\n",
    "Let's read the data and see how many entries we are working with"
   ]
  },
  {
   "cell_type": "code",
   "execution_count": 5,
   "metadata": {
    "scrolled": true
   },
   "outputs": [
    {
     "data": {
      "text/html": [
       "'There are 33269 entries in Company Fundamentals 2017 and 35728 entries in Company Fundamentals 2018'"
      ],
      "text/latex": [
       "'There are 33269 entries in Company Fundamentals 2017 and 35728 entries in Company Fundamentals 2018'"
      ],
      "text/markdown": [
       "'There are 33269 entries in Company Fundamentals 2017 and 35728 entries in Company Fundamentals 2018'"
      ],
      "text/plain": [
       "[1] \"There are 33269 entries in Company Fundamentals 2017 and 35728 entries in Company Fundamentals 2018\""
      ]
     },
     "metadata": {},
     "output_type": "display_data"
    },
    {
     "data": {
      "text/html": [
       "<table><tr><td style=\"background-color:white; vertical-align:top; padding-right:40px;\"><table>\n",
       "<caption><center><font color=\"black\"><b>size(fund_17)</b></font></center></caption>\n",
       " <thead>\n",
       "  <tr>\n",
       "   <th style=\"text-align:right;background-color: #FFFFFF !important;\"> observations </th>\n",
       "   <th style=\"text-align:right;background-color: #FFFFFF !important;\"> variables </th>\n",
       "  </tr>\n",
       " </thead>\n",
       "<tbody>\n",
       "  <tr>\n",
       "   <td style=\"text-align:right;\"> 33269 </td>\n",
       "   <td style=\"text-align:right;\"> 680 </td>\n",
       "  </tr>\n",
       "</tbody>\n",
       "</table></td><td style=\"background-color:white; vertical-align:top;\"><table>\n",
       "<caption><center><font color=\"black\"><b>size(fund_18)</b></font></center></caption>\n",
       " <thead>\n",
       "  <tr>\n",
       "   <th style=\"text-align:right;background-color: #FFFFFF !important;\"> observations </th>\n",
       "   <th style=\"text-align:right;background-color: #FFFFFF !important;\"> variables </th>\n",
       "  </tr>\n",
       " </thead>\n",
       "<tbody>\n",
       "  <tr>\n",
       "   <td style=\"text-align:right;\"> 35728 </td>\n",
       "   <td style=\"text-align:right;\"> 680 </td>\n",
       "  </tr>\n",
       "</tbody>\n",
       "</table></td></tr></table>"
      ]
     },
     "metadata": {},
     "output_type": "display_data"
    }
   ],
   "source": [
    "# Retrieving the data dictionary.\n",
    "dict = read.csv('Data Dictionary.csv')\n",
    "fund_17 = read.csv('Company Fundamentals 2017.csv')\n",
    "fund_18 = read.csv('Company Fundamentals 2018.csv')\n",
    "uniques = c(unique(dict$Variable.Name), unique(dict$Data.Type), unique(dict$Variable.Description), unique(dict$Help))\n",
    "classes = c(class(dict$Variable.Name), class(dict$Data.Type), class(dict$Variable.Description), class(dict$Help))\n",
    "\n",
    "sprintf(\"There are %s entries in Company Fundamentals 2017 and %s entries in Company Fundamentals 2018\", nrow(fund_17), nrow(fund_18))\n",
    "layout(fmt(size(fund_17)), fmt(size(fund_18)))"
   ]
  },
  {
   "cell_type": "markdown",
   "metadata": {},
   "source": [
    "### Data for 2017"
   ]
  },
  {
   "cell_type": "markdown",
   "metadata": {},
   "source": [
    "#### Partition Data by Calendar Quarter \n",
    "\n",
    "To partition the dataset by calendar quarter in which information is reported, I'll first add a synthetic variable to indicate such.  I'll then partition into four new datasets, one for each quarter, and drop the quarter variables. Additionally, I'll filter the observations to include only those with non-missing `prccq` $\\geq$ 3.  Then, I'll remove any observations about companies that reported more than once per quarter.  Finally, I'll change all the variable names (except for the `gvkey`, `tic`, and `conm` variables) by suffixing them with quarter information - e.g., in the Quarter 1 dataset, `prccq` becomes `prccq.q1`, etc."
   ]
  },
  {
   "cell_type": "code",
   "execution_count": 6,
   "metadata": {},
   "outputs": [],
   "source": [
    "# Partitioning the dataset as described.\n",
    "datax = fund_17\n",
    "datax$quarter = quarter(mdy(datax[,2]))\n",
    " \n",
    "data.current.q1 = datax[(datax$quarter==1) & !is.na(datax$prccq) & (datax$prccq>=3), -ncol(datax)]\n",
    "data.current.q2 = datax[(datax$quarter==2) & !is.na(datax$prccq) & (datax$prccq>=3), -ncol(datax)]\n",
    "data.current.q3 = datax[(datax$quarter==3) & !is.na(datax$prccq) & (datax$prccq>=3), -ncol(datax)]\n",
    "data.current.q4 = datax[(datax$quarter==4) & !is.na(datax$prccq) & (datax$prccq>=3), -ncol(datax)]\n",
    " \n",
    "data.current.q1 = data.current.q1[!duplicated(data.current.q1$gvkey),]\n",
    "data.current.q2 = data.current.q2[!duplicated(data.current.q2$gvkey),]\n",
    "data.current.q3 = data.current.q3[!duplicated(data.current.q3$gvkey),]\n",
    "data.current.q4 = data.current.q4[!duplicated(data.current.q4$gvkey),]\n",
    " \n",
    "colnames(data.current.q1)[-c(1, 10, 12)] = paste0(colnames(data.current.q1)[-c(1, 10, 12)], \".q1\")\n",
    "colnames(data.current.q2)[-c(1, 10, 12)] = paste0(colnames(data.current.q2)[-c(1, 10, 12)], \".q2\")\n",
    "colnames(data.current.q3)[-c(1, 10, 12)] = paste0(colnames(data.current.q3)[-c(1, 10, 12)], \".q3\")\n",
    "colnames(data.current.q4)[-c(1, 10, 12)] = paste0(colnames(data.current.q4)[-c(1, 10, 12)], \".q4\")\n"
   ]
  },
  {
   "cell_type": "markdown",
   "metadata": {},
   "source": [
    "#### Consolidate Data by Company\n",
    "\n",
    "Consolidate the four quarter datasets into one dataset, with one observation per company that includes variables for all four quarters.  Remove any observations with missing `prccq.q4` values."
   ]
  },
  {
   "cell_type": "code",
   "execution_count": 8,
   "metadata": {
    "scrolled": true
   },
   "outputs": [
    {
     "data": {
      "text/html": [
       "<table>\n",
       "<caption><center><font color=\"black\"><b>size(data.current)</b></font></center></caption>\n",
       " <thead>\n",
       "  <tr>\n",
       "   <th style=\"text-align:right;background-color: #FFFFFF !important;\"> observations </th>\n",
       "   <th style=\"text-align:right;background-color: #FFFFFF !important;\"> variables </th>\n",
       "  </tr>\n",
       " </thead>\n",
       "<tbody>\n",
       "  <tr>\n",
       "   <td style=\"text-align:right;\"> 4434 </td>\n",
       "   <td style=\"text-align:right;\"> 2711 </td>\n",
       "  </tr>\n",
       "</tbody>\n",
       "</table>"
      ]
     },
     "metadata": {},
     "output_type": "display_data"
    }
   ],
   "source": [
    "# Consolidating the partitions as described.\n",
    "m12 = merge(data.current.q1, data.current.q2, by=c(\"gvkey\", \"tic\", \"conm\"), all=TRUE)\n",
    "m34 = merge(data.current.q3, data.current.q4, by=c(\"gvkey\", \"tic\", \"conm\"), all=TRUE)\n",
    " \n",
    "data.current = merge(m12, m34, by=c(\"gvkey\", \"tic\", \"conm\"), all=TRUE, sort=TRUE)\n",
    "data.current = data.current[!is.na(data.current$prccq.q4),]\n",
    " \n",
    "fmt(size(data.current))"
   ]
  },
  {
   "cell_type": "markdown",
   "metadata": {},
   "source": [
    "### Data for 2018"
   ]
  },
  {
   "cell_type": "markdown",
   "metadata": {},
   "source": [
    "#### Filter Data by Calendar Quarter 4 \n",
    "\n",
    "To filter the dataset by calendar quarter in which information is reported, I'll first add a synthetic variable to indicate such, and then select only observations with information reported in quarter 4. Additionally, I'll filter the observations to include only those with non-missing `prccq`, and keep only the `gvkey` and `prccq` variables.  Then, I'll remove any observations about companies that reported more than once per quarter."
   ]
  },
  {
   "cell_type": "code",
   "execution_count": 9,
   "metadata": {
    "scrolled": true
   },
   "outputs": [
    {
     "data": {
      "text/html": [
       "<table>\n",
       "<thead><tr><th></th><th scope=col>gvkey</th><th scope=col>prccq</th></tr></thead>\n",
       "<tbody>\n",
       "\t<tr><th scope=row>4</th><td>1004 </td><td>43.69</td></tr>\n",
       "\t<tr><th scope=row>8</th><td>1045 </td><td>32.11</td></tr>\n",
       "\t<tr><th scope=row>12</th><td>1050 </td><td> 6.75</td></tr>\n",
       "\t<tr><th scope=row>16</th><td>1062 </td><td> 8.66</td></tr>\n",
       "\t<tr><th scope=row>20</th><td>1072 </td><td>15.25</td></tr>\n",
       "\t<tr><th scope=row>24</th><td>1075 </td><td>85.20</td></tr>\n",
       "</tbody>\n",
       "</table>\n"
      ],
      "text/latex": [
       "\\begin{tabular}{r|ll}\n",
       "  & gvkey & prccq\\\\\n",
       "\\hline\n",
       "\t4 & 1004  & 43.69\\\\\n",
       "\t8 & 1045  & 32.11\\\\\n",
       "\t12 & 1050  &  6.75\\\\\n",
       "\t16 & 1062  &  8.66\\\\\n",
       "\t20 & 1072  & 15.25\\\\\n",
       "\t24 & 1075  & 85.20\\\\\n",
       "\\end{tabular}\n"
      ],
      "text/markdown": [
       "\n",
       "| <!--/--> | gvkey | prccq |\n",
       "|---|---|---|\n",
       "| 4 | 1004  | 43.69 |\n",
       "| 8 | 1045  | 32.11 |\n",
       "| 12 | 1050  |  6.75 |\n",
       "| 16 | 1062  |  8.66 |\n",
       "| 20 | 1072  | 15.25 |\n",
       "| 24 | 1075  | 85.20 |\n",
       "\n"
      ],
      "text/plain": [
       "   gvkey prccq\n",
       "4  1004  43.69\n",
       "8  1045  32.11\n",
       "12 1050   6.75\n",
       "16 1062   8.66\n",
       "20 1072  15.25\n",
       "24 1075  85.20"
      ]
     },
     "metadata": {},
     "output_type": "display_data"
    },
    {
     "data": {
      "text/html": [
       "<table>\n",
       "<thead><tr><th scope=col>observations</th><th scope=col>variables</th></tr></thead>\n",
       "<tbody>\n",
       "\t<tr><td>5968</td><td>2   </td></tr>\n",
       "</tbody>\n",
       "</table>\n"
      ],
      "text/latex": [
       "\\begin{tabular}{r|ll}\n",
       " observations & variables\\\\\n",
       "\\hline\n",
       "\t 5968 & 2   \\\\\n",
       "\\end{tabular}\n"
      ],
      "text/markdown": [
       "\n",
       "| observations | variables |\n",
       "|---|---|\n",
       "| 5968 | 2    |\n",
       "\n"
      ],
      "text/plain": [
       "  observations variables\n",
       "1 5968         2        "
      ]
     },
     "metadata": {},
     "output_type": "display_data"
    }
   ],
   "source": [
    "# Filtering the dataset as described.\n",
    "datax = fund_18\n",
    "datax$quarter = quarter(mdy(datax[,2]))\n",
    "\n",
    "data.future.q4 = datax[(datax$quarter==4) & !is.na(datax$prccq), c(\"gvkey\", \"prccq\")]\n",
    "data.future.q4 = data.future.q4[!duplicated(data.future.q4$gvkey),]\n",
    "data.future.q4[1:6,]\n",
    "size(data.future.q4)"
   ]
  },
  {
   "cell_type": "markdown",
   "metadata": {},
   "source": [
    "### Ready Data for Analysis\n",
    "\n",
    "Here, I'll consolidate the processed 2017 dataset and processed 2018 dataset, keeping only observations that have both 2017 and 2018 information.  Then, I'll add these 2 synthetic variables:\n",
    "\n",
    "$\\begin{align}\n",
    "growth : & \\, (prccq - prccq.q4) \\div prccq.q4 \\\\\n",
    "big\\_growth : & \\, growth \\geq threshold\n",
    "\\end{align}$\n",
    "\n",
    "<br>\n",
    "\n",
    "$prccq$, $growth$, and $big\\_growth$ are outcome variables.  All others are predictor variables."
   ]
  },
  {
   "cell_type": "code",
   "execution_count": 11,
   "metadata": {
    "scrolled": true
   },
   "outputs": [
    {
     "data": {
      "text/html": [
       "'There are 2714 different variables. Which is 3 outcome variables and 2711 predictor variables'"
      ],
      "text/latex": [
       "'There are 2714 different variables. Which is 3 outcome variables and 2711 predictor variables'"
      ],
      "text/markdown": [
       "'There are 2714 different variables. Which is 3 outcome variables and 2711 predictor variables'"
      ],
      "text/plain": [
       "[1] \"There are 2714 different variables. Which is 3 outcome variables and 2711 predictor variables\""
      ]
     },
     "metadata": {},
     "output_type": "display_data"
    },
    {
     "data": {
      "text/html": [
       "<table>\n",
       "<caption><center><font color=\"black\"><b>size(fund)</b></font></center></caption>\n",
       " <thead>\n",
       "  <tr>\n",
       "   <th style=\"text-align:right;background-color: #FFFFFF !important;\"> observations </th>\n",
       "   <th style=\"text-align:right;background-color: #FFFFFF !important;\"> variables </th>\n",
       "  </tr>\n",
       " </thead>\n",
       "<tbody>\n",
       "  <tr>\n",
       "   <td style=\"text-align:right;\"> 4305 </td>\n",
       "   <td style=\"text-align:right;\"> 2714 </td>\n",
       "  </tr>\n",
       "</tbody>\n",
       "</table>"
      ]
     },
     "metadata": {},
     "output_type": "display_data"
    }
   ],
   "source": [
    "# Consolidating the datasets as described.\n",
    "fund = merge(data.current, data.future.q4)\n",
    "fund$growth = (fund$prccq - fund$prccq.q4) / fund$prccq.q4\n",
    "fund$big_growth = fund$growth >= threshold\n",
    "sprintf(\"There are %s different variables. Which is 3 outcome variables and 2711 predictor variables\", length(colnames(fund)))\n",
    "fmt(size(fund))"
   ]
  },
  {
   "cell_type": "markdown",
   "metadata": {},
   "source": [
    "## New Representation of Data\n"
   ]
  },
  {
   "cell_type": "markdown",
   "metadata": {},
   "source": [
    "### Variable Selection"
   ]
  },
  {
   "cell_type": "markdown",
   "metadata": {},
   "source": [
    "Here, I'll filter the data to include only predictor variables with at least 80% non-missing values."
   ]
  },
  {
   "cell_type": "code",
   "execution_count": 12,
   "metadata": {},
   "outputs": [
    {
     "data": {
      "text/html": [
       "<table>\n",
       "<thead><tr><th scope=col>observations</th><th scope=col>variables</th></tr></thead>\n",
       "<tbody>\n",
       "\t<tr><td>4305</td><td>923 </td></tr>\n",
       "</tbody>\n",
       "</table>\n"
      ],
      "text/latex": [
       "\\begin{tabular}{r|ll}\n",
       " observations & variables\\\\\n",
       "\\hline\n",
       "\t 4305 & 923 \\\\\n",
       "\\end{tabular}\n"
      ],
      "text/markdown": [
       "\n",
       "| observations | variables |\n",
       "|---|---|\n",
       "| 4305 | 923  |\n",
       "\n"
      ],
      "text/plain": [
       "  observations variables\n",
       "1 4305         923      "
      ]
     },
     "metadata": {},
     "output_type": "display_data"
    }
   ],
   "source": [
    "# Selecting variables.\n",
    "data.filtered = fund[ ,!(colnames(fund) == \"growth\")]\n",
    "data.filtered = data.filtered[ ,!(colnames(data.filtered) == \"prccq.q1\")]\n",
    "data.filtered = data.filtered[ ,!(colnames(data.filtered) == \"big_growth\")]\n",
    "data.filtered = data.filtered[, -which(colMeans(is.na(data.filtered)) > 0.2)]\n",
    "size(data.filtered)"
   ]
  },
  {
   "cell_type": "markdown",
   "metadata": {},
   "source": [
    "### Imputation"
   ]
  },
  {
   "cell_type": "markdown",
   "metadata": {},
   "source": [
    "In this cell, I'll impute missing data: for each numeric variable, I'll use the mean of non-missing values; for each non-numeric variable, I'll use the mode of non-missing values."
   ]
  },
  {
   "cell_type": "code",
   "execution_count": 13,
   "metadata": {},
   "outputs": [
    {
     "data": {
      "text/html": [
       "<table>\n",
       "<thead><tr><th scope=col>observations</th><th scope=col>variables</th></tr></thead>\n",
       "<tbody>\n",
       "\t<tr><td>4305</td><td>923 </td></tr>\n",
       "</tbody>\n",
       "</table>\n"
      ],
      "text/latex": [
       "\\begin{tabular}{r|ll}\n",
       " observations & variables\\\\\n",
       "\\hline\n",
       "\t 4305 & 923 \\\\\n",
       "\\end{tabular}\n"
      ],
      "text/markdown": [
       "\n",
       "| observations | variables |\n",
       "|---|---|\n",
       "| 4305 | 923  |\n",
       "\n"
      ],
      "text/plain": [
       "  observations variables\n",
       "1 4305         923      "
      ]
     },
     "metadata": {},
     "output_type": "display_data"
    }
   ],
   "source": [
    "# Imputing missing data.\n",
    "imputed = get_impute(data.filtered)\n",
    "data.x = data.filtered\n",
    "data.filtered = impute(data.filtered)\n",
    "size(data.filtered)"
   ]
  },
  {
   "cell_type": "markdown",
   "metadata": {},
   "source": [
    "### Principal Component Analysis"
   ]
  },
  {
   "cell_type": "markdown",
   "metadata": {},
   "source": [
    "In this section, I'll perform PCA. In preparation for principal component analysis, I'll filter the data to include only numeric and integer variables with non-zero variance."
   ]
  },
  {
   "cell_type": "code",
   "execution_count": 14,
   "metadata": {},
   "outputs": [
    {
     "data": {
      "text/html": [
       "<table>\n",
       "<thead><tr><th scope=col>observations</th><th scope=col>variables</th></tr></thead>\n",
       "<tbody>\n",
       "\t<tr><td>4305</td><td>737 </td></tr>\n",
       "</tbody>\n",
       "</table>\n"
      ],
      "text/latex": [
       "\\begin{tabular}{r|ll}\n",
       " observations & variables\\\\\n",
       "\\hline\n",
       "\t 4305 & 737 \\\\\n",
       "\\end{tabular}\n"
      ],
      "text/markdown": [
       "\n",
       "| observations | variables |\n",
       "|---|---|\n",
       "| 4305 | 737  |\n",
       "\n"
      ],
      "text/plain": [
       "  observations variables\n",
       "1 4305         737      "
      ]
     },
     "metadata": {},
     "output_type": "display_data"
    }
   ],
   "source": [
    "# Filtering data for PCA\n",
    "data.filtered.num = Filter(is.numeric, data.filtered)\n",
    "data.filt = data.filtered.num[ - as.numeric(which(apply(data.filtered.num, 2, var) == 0))]\n",
    "size(data.filt)"
   ]
  },
  {
   "cell_type": "code",
   "execution_count": 18,
   "metadata": {},
   "outputs": [
    {
     "data": {
      "text/html": [
       "<table>\n",
       "<thead><tr><th scope=col>PC1</th><th scope=col>PC2</th><th scope=col>PC3</th><th scope=col>PC4</th><th scope=col>PC5</th><th scope=col>PC6</th><th scope=col>PC7</th><th scope=col>PC8</th><th scope=col>PC9</th><th scope=col>PC10</th><th scope=col>PC11</th><th scope=col>PC12</th><th scope=col>PC13</th><th scope=col>PC14</th><th scope=col>PC15</th><th scope=col>PC16</th><th scope=col>PC17</th><th scope=col>PC18</th><th scope=col>PC19</th><th scope=col>PC20</th><th scope=col>PC21</th><th scope=col>PC22</th><th scope=col>PC23</th><th scope=col>PC24</th><th scope=col>PC25</th><th scope=col>PC26</th><th scope=col>PC27</th><th scope=col>PC28</th><th scope=col>PC29</th><th scope=col>PC30</th><th scope=col>PC31</th><th scope=col>PC32</th><th scope=col>PC33</th><th scope=col>PC34</th><th scope=col>PC35</th><th scope=col>PC36</th><th scope=col>PC37</th><th scope=col>PC38</th><th scope=col>PC39</th><th scope=col>PC40</th><th scope=col>PC41</th><th scope=col>PC42</th><th scope=col>PC43</th><th scope=col>PC44</th><th scope=col>PC45</th><th scope=col>PC46</th><th scope=col>PC47</th><th scope=col>PC48</th><th scope=col>PC49</th><th scope=col>PC50</th><th scope=col>PC51</th><th scope=col>PC52</th><th scope=col>PC53</th><th scope=col>PC54</th><th scope=col>PC55</th><th scope=col>PC56</th><th scope=col>PC57</th><th scope=col>PC58</th><th scope=col>PC59</th><th scope=col>PC60</th><th scope=col>PC61</th><th scope=col>PC62</th><th scope=col>PC63</th><th scope=col>PC64</th><th scope=col>PC65</th><th scope=col>PC66</th><th scope=col>PC67</th><th scope=col>PC68</th><th scope=col>PC69</th><th scope=col>PC70</th><th scope=col>PC71</th><th scope=col>PC72</th><th scope=col>PC73</th><th scope=col>PC74</th><th scope=col>PC75</th><th scope=col>PC76</th><th scope=col>PC77</th><th scope=col>PC78</th><th scope=col>PC79</th><th scope=col>PC80</th><th scope=col>PC81</th><th scope=col>PC82</th><th scope=col>PC83</th><th scope=col>PC84</th><th scope=col>PC85</th><th scope=col>PC86</th><th scope=col>PC87</th><th scope=col>PC88</th><th scope=col>PC89</th><th scope=col>PC90</th><th scope=col>PC91</th><th scope=col>PC92</th><th scope=col>PC93</th><th scope=col>PC94</th><th scope=col>PC95</th><th scope=col>PC96</th><th scope=col>PC97</th><th scope=col>PC98</th><th scope=col>PC99</th><th scope=col>PC100</th><th scope=col>⋯</th><th scope=col>PC638</th><th scope=col>PC639</th><th scope=col>PC640</th><th scope=col>PC641</th><th scope=col>PC642</th><th scope=col>PC643</th><th scope=col>PC644</th><th scope=col>PC645</th><th scope=col>PC646</th><th scope=col>PC647</th><th scope=col>PC648</th><th scope=col>PC649</th><th scope=col>PC650</th><th scope=col>PC651</th><th scope=col>PC652</th><th scope=col>PC653</th><th scope=col>PC654</th><th scope=col>PC655</th><th scope=col>PC656</th><th scope=col>PC657</th><th scope=col>PC658</th><th scope=col>PC659</th><th scope=col>PC660</th><th scope=col>PC661</th><th scope=col>PC662</th><th scope=col>PC663</th><th scope=col>PC664</th><th scope=col>PC665</th><th scope=col>PC666</th><th scope=col>PC667</th><th scope=col>PC668</th><th scope=col>PC669</th><th scope=col>PC670</th><th scope=col>PC671</th><th scope=col>PC672</th><th scope=col>PC673</th><th scope=col>PC674</th><th scope=col>PC675</th><th scope=col>PC676</th><th scope=col>PC677</th><th scope=col>PC678</th><th scope=col>PC679</th><th scope=col>PC680</th><th scope=col>PC681</th><th scope=col>PC682</th><th scope=col>PC683</th><th scope=col>PC684</th><th scope=col>PC685</th><th scope=col>PC686</th><th scope=col>PC687</th><th scope=col>PC688</th><th scope=col>PC689</th><th scope=col>PC690</th><th scope=col>PC691</th><th scope=col>PC692</th><th scope=col>PC693</th><th scope=col>PC694</th><th scope=col>PC695</th><th scope=col>PC696</th><th scope=col>PC697</th><th scope=col>PC698</th><th scope=col>PC699</th><th scope=col>PC700</th><th scope=col>PC701</th><th scope=col>PC702</th><th scope=col>PC703</th><th scope=col>PC704</th><th scope=col>PC705</th><th scope=col>PC706</th><th scope=col>PC707</th><th scope=col>PC708</th><th scope=col>PC709</th><th scope=col>PC710</th><th scope=col>PC711</th><th scope=col>PC712</th><th scope=col>PC713</th><th scope=col>PC714</th><th scope=col>PC715</th><th scope=col>PC716</th><th scope=col>PC717</th><th scope=col>PC718</th><th scope=col>PC719</th><th scope=col>PC720</th><th scope=col>PC721</th><th scope=col>PC722</th><th scope=col>PC723</th><th scope=col>PC724</th><th scope=col>PC725</th><th scope=col>PC726</th><th scope=col>PC727</th><th scope=col>PC728</th><th scope=col>PC729</th><th scope=col>PC730</th><th scope=col>PC731</th><th scope=col>PC732</th><th scope=col>PC733</th><th scope=col>PC734</th><th scope=col>PC735</th><th scope=col>PC736</th><th scope=col>PC737</th></tr></thead>\n",
       "<tbody>\n",
       "\t<tr><td>  3.437026           </td><td>-0.2214612           </td><td> 0.42173751          </td><td>-0.6326742           </td><td> 1.5547346           </td><td>-0.5654384           </td><td> 2.0475876           </td><td>-4.7934517           </td><td> 2.57730773          </td><td> 1.08458798          </td><td>-1.0862641           </td><td>-0.7297127           </td><td> 0.2969840           </td><td> 6.8506191           </td><td>-1.40348828          </td><td> 1.0990780           </td><td> 0.1814650           </td><td> 0.9899768           </td><td>-0.79304191          </td><td> 0.19916007          </td><td>-0.3167686           </td><td>1.0530731            </td><td> 1.67811387          </td><td>-0.8667728           </td><td>-0.37924724          </td><td>-1.16145300          </td><td> 1.0876456           </td><td>-1.0402680           </td><td> 0.8550118           </td><td>-0.1308677           </td><td>-0.9077599           </td><td> 0.2754206           </td><td>-0.72754324          </td><td>-0.04243444          </td><td>-1.0435284           </td><td>0.37192500           </td><td> 0.09528258          </td><td> 1.00867366          </td><td>-0.6293308           </td><td> 0.55889783          </td><td>-0.13176967          </td><td> 0.52259389          </td><td>-1.7070397           </td><td> 2.7192290           </td><td>-0.34168959          </td><td> 0.22828921          </td><td>-0.09991265          </td><td>-0.57794811          </td><td>-0.2900903           </td><td> 0.2200521           </td><td>-0.47605676          </td><td>-0.1951741           </td><td>-0.05089903          </td><td>-0.07024937          </td><td> 0.4389557           </td><td>-0.2722637           </td><td>-0.0987418064        </td><td>-0.31595011204       </td><td>-0.6649850           </td><td> 0.59204523          </td><td> 0.48727964          </td><td> 0.3470977           </td><td> 0.29489569          </td><td>-0.283226674         </td><td>-0.4221029033        </td><td>-0.09672700          </td><td>-0.074176035         </td><td> 0.57985545          </td><td> 0.22562304          </td><td>-0.96556143          </td><td> 0.26177436          </td><td> 1.48999300          </td><td>-0.24223471          </td><td>-0.840735798         </td><td> 1.0517995           </td><td>-1.50630962          </td><td>-2.633578488         </td><td>-1.49749046          </td><td>-4.00246257          </td><td>-0.82597660          </td><td>-3.83926181          </td><td>-1.85721178          </td><td> 1.62861480          </td><td>-0.58109160          </td><td>-2.41890422          </td><td> 0.82976699          </td><td> 0.002919377         </td><td> 1.9151847           </td><td>-1.63955262          </td><td>-0.61220391          </td><td> 0.3054356           </td><td> 1.62475884          </td><td>-0.2848171           </td><td> 0.19355465          </td><td> 0.15458417          </td><td> 0.44065724          </td><td> 0.1104779           </td><td>-0.9759045           </td><td>-0.1275174           </td><td>-0.46725093          </td><td>⋯                    </td><td> 0.00026890976       </td><td>-0.00023635091       </td><td> 0.00044341450       </td><td> 0.000090364199      </td><td> 0.00023843817       </td><td>-0.00005206102       </td><td> 0.00003903972       </td><td>-0.00007387230       </td><td>-0.000157449675      </td><td>-0.000138641626      </td><td>-0.00002854977       </td><td> 0.000042287001      </td><td> 0.000292705013      </td><td> 0.00032473936       </td><td> 0.00014567185       </td><td> 0.000146448396      </td><td>-0.000170107920      </td><td>-0.00003448985       </td><td> 0.00028558601       </td><td> 0.00016365036       </td><td>-0.000154234510      </td><td>-0.00029234046       </td><td>-0.000100922050      </td><td>-0.00004458205       </td><td> 0.00032625554       </td><td> 0.00008389825       </td><td>-0.000011824119      </td><td>-0.000025850869      </td><td> 0.00020615730       </td><td>-0.000042683233      </td><td>-0.00008624288       </td><td> 0.000004802560      </td><td>-0.000190323006      </td><td>-0.000037667508      </td><td>-0.00006097613       </td><td>-0.00006945291       </td><td> 0.000179219572      </td><td>-0.000033429299      </td><td> 0.000029288835      </td><td>-0.000012324662      </td><td> 0.000009052659      </td><td>-0.0000123097086     </td><td>-0.00001491322074    </td><td>-0.0000082646511     </td><td> 0.0000148841842     </td><td>-0.0000113819402     </td><td>-0.0000023825739     </td><td> 0.0000158681347     </td><td>-0.0000091692953     </td><td> 0.0000053559286     </td><td>-0.000008791974      </td><td> 0.0000073379265     </td><td>-0.0000020720397     </td><td>-0.0000040715156     </td><td>-0.0000020103303     </td><td>-0.00000096224209    </td><td>-0.0000030342634     </td><td>-0.000000119544701   </td><td>-0.00000065985314    </td><td>-0.000000025465513   </td><td>-0.00000001409388    </td><td>-0.000000001776530   </td><td>-0.000000018341912   </td><td> 0.00000000296975142 </td><td>-0.000000000037619422</td><td> 3.690191e-15        </td><td> 3.265671e-15        </td><td> 2.619432e-16        </td><td> 1.590199e-15        </td><td> 5.377643e-17        </td><td>-3.053113e-16        </td><td>-1.207801e-15        </td><td> 3.963843e-16        </td><td> 6.071532e-16        </td><td> 2.087631e-16        </td><td>-1.208777e-15        </td><td> 1.444157e-16        </td><td>-4.951009e-16        </td><td> 2.328866e-16        </td><td> 1.153591e-16        </td><td> 2.072995e-16        </td><td>-8.101159e-16        </td><td>-1.053845e-15        </td><td> 4.189357e-16        </td><td> 3.964927e-16        </td><td> 1.019150e-17        </td><td>-6.245005e-17        </td><td>-1.231654e-16        </td><td>-2.116363e-16        </td><td>-7.973223e-16        </td><td>-8.187895e-16        </td><td>-2.706169e-16        </td><td> 1.040834e-15        </td><td> 1.106754e-15        </td><td> 7.754214e-16        </td><td>-2.735225e-15        </td><td> 3.851086e-16        </td><td> 5.802650e-16        </td><td> 2.246467e-16        </td><td> 4.163336e-17        </td></tr>\n",
       "\t<tr><td>-12.033145           </td><td> 0.8010104           </td><td> 5.91825772          </td><td>-0.8021252           </td><td> 6.7209209           </td><td>-3.0465557           </td><td> 0.3474168           </td><td>-0.9159117           </td><td>-0.08654886          </td><td>-3.11236549          </td><td>-2.0995968           </td><td>-0.6278466           </td><td> 2.3324190           </td><td>-1.9084853           </td><td> 0.31186074          </td><td> 0.6937267           </td><td>-0.7265996           </td><td> 0.6662153           </td><td>-0.96433985          </td><td> 0.17794874          </td><td>-1.2926844           </td><td>1.3592125            </td><td> 0.94050043          </td><td> 1.0356987           </td><td> 0.75765557          </td><td>-0.11165343          </td><td> 0.9808930           </td><td>-0.6856368           </td><td> 0.7187212           </td><td> 2.6065871           </td><td>-0.6523321           </td><td> 3.3557478           </td><td> 0.06768979          </td><td>-2.00382142          </td><td> 0.1395784           </td><td>1.34276721           </td><td>-0.81881894          </td><td> 0.46464860          </td><td> 1.0663024           </td><td>-0.69449900          </td><td>-0.09554024          </td><td>-0.63869885          </td><td>-1.2013752           </td><td> 4.5053108           </td><td>-0.97609252          </td><td> 1.07139450          </td><td>-0.42636989          </td><td>-2.33135283          </td><td>-2.1107092           </td><td>-0.9136736           </td><td> 1.85379421          </td><td> 0.4307178           </td><td>-1.15705271          </td><td> 1.85382771          </td><td>-2.0183727           </td><td> 0.2564544           </td><td> 2.7786000618        </td><td>-1.01659127400       </td><td> 0.9466709           </td><td>-3.79799335          </td><td>-1.08722915          </td><td> 0.8517831           </td><td>-0.23961512          </td><td>-4.379882903         </td><td>-4.0756682379        </td><td> 0.63464908          </td><td>-0.578779053         </td><td> 0.37596378          </td><td>-0.24206335          </td><td> 0.89831718          </td><td>-0.47784275          </td><td> 1.60817799          </td><td> 0.96883887          </td><td>-2.344135914         </td><td>-2.0385258           </td><td> 1.59657448          </td><td>-1.024892621         </td><td> 0.67927907          </td><td>-1.29003539          </td><td>-0.06713490          </td><td> 0.37567971          </td><td>-0.04532559          </td><td>-0.06186774          </td><td> 1.47559615          </td><td> 1.86874890          </td><td>-1.11161546          </td><td>-1.139544188         </td><td>-0.1687775           </td><td>-0.19661999          </td><td>-0.26339430          </td><td> 0.2274362           </td><td> 0.82378200          </td><td>-0.2819120           </td><td>-0.70414098          </td><td>-0.49292062          </td><td> 0.85686756          </td><td> 0.1021721           </td><td> 0.4081682           </td><td> 0.3101058           </td><td>-2.24106470          </td><td>⋯                    </td><td> 0.00044419513       </td><td>-0.00074078795       </td><td> 0.00092987121       </td><td>-0.000562698249      </td><td>-0.00021681527       </td><td>-0.00003561510       </td><td>-0.00014112630       </td><td> 0.00112216369       </td><td>-0.000374821877      </td><td>-0.000081822022      </td><td>-0.00024421441       </td><td> 0.000105159602      </td><td>-0.000229677806      </td><td> 0.00002160674       </td><td>-0.00007430516       </td><td>-0.000410353705      </td><td> 0.000445659705      </td><td>-0.00007056489       </td><td> 0.00005032614       </td><td> 0.00014796502       </td><td> 0.000001207547      </td><td>-0.00002898364       </td><td> 0.000164446959      </td><td>-0.00019000209       </td><td>-0.00001824788       </td><td>-0.00024797175       </td><td>-0.000082749088      </td><td> 0.000004824046      </td><td>-0.00003158558       </td><td> 0.000058858605      </td><td>-0.00005023632       </td><td>-0.000011620866      </td><td> 0.000036379590      </td><td> 0.000121204748      </td><td>-0.00002102718       </td><td>-0.00016704115       </td><td>-0.000071873276      </td><td> 0.000076239659      </td><td> 0.000031202804      </td><td> 0.000004253692      </td><td> 0.000016198784      </td><td>-0.0000319055956     </td><td> 0.00004934101374    </td><td>-0.0000019985868     </td><td>-0.0000003731106     </td><td> 0.0000258799493     </td><td> 0.0000034907428     </td><td>-0.0000006777451     </td><td> 0.0000111668269     </td><td> 0.0000180551718     </td><td>-0.000001393200      </td><td>-0.0000100334794     </td><td> 0.0000038079393     </td><td> 0.0000029277437     </td><td> 0.0000030559442     </td><td> 0.00000619337988    </td><td> 0.0000008551504     </td><td>-0.000000763849132   </td><td>-0.00000051133374    </td><td> 0.000000089617727   </td><td> 0.00000003730669    </td><td> 0.000000008505719   </td><td>-0.000000003250545   </td><td> 0.00000006063336218 </td><td>-0.000000000069490025</td><td> 4.385923e-15        </td><td> 2.186741e-15        </td><td> 1.322293e-15        </td><td> 2.059984e-16        </td><td> 2.015749e-15        </td><td> 3.469447e-16        </td><td>-6.485697e-16        </td><td> 1.035630e-15        </td><td> 9.714451e-16        </td><td>-1.236451e-15        </td><td>-4.767237e-16        </td><td> 2.593412e-16        </td><td> 1.002562e-15        </td><td>-6.973588e-16        </td><td> 3.018419e-16        </td><td>-1.445892e-15        </td><td> 3.478121e-16        </td><td> 1.125836e-15        </td><td>-1.111090e-15        </td><td> 9.875998e-16        </td><td> 9.875727e-16        </td><td> 7.771561e-16        </td><td> 8.708312e-16        </td><td>-1.679212e-15        </td><td>-1.613293e-16        </td><td> 2.463307e-16        </td><td> 8.708312e-16        </td><td>-6.800116e-16        </td><td>-2.671474e-16        </td><td>-2.550044e-16        </td><td> 2.493665e-15        </td><td> 1.621966e-16        </td><td> 3.070461e-16        </td><td> 1.500536e-16        </td><td>-3.538836e-16        </td></tr>\n",
       "\t<tr><td>  3.953238           </td><td>-0.7553501           </td><td> 0.07550776          </td><td>-0.3825126           </td><td> 1.4766452           </td><td>-1.6298921           </td><td> 1.7174488           </td><td>-4.0298611           </td><td>-0.40460361          </td><td>-0.43665316          </td><td> 0.2440097           </td><td> 0.2832762           </td><td>-0.2873760           </td><td>-1.2865271           </td><td>-0.23819151          </td><td> 0.1925911           </td><td>-0.2650001           </td><td> 0.1374451           </td><td> 0.10011591          </td><td>-0.01429907          </td><td>-0.3395014           </td><td>0.2491561            </td><td> 0.61531770          </td><td> 0.2487877           </td><td> 0.31159783          </td><td> 0.08067493          </td><td>-0.3952104           </td><td> 0.2604924           </td><td>-0.5875763           </td><td> 0.9711158           </td><td>-1.3397643           </td><td> 0.3761314           </td><td>-0.60218477          </td><td> 0.10029039          </td><td>-0.1221895           </td><td>0.52527428           </td><td>-0.61701828          </td><td> 1.31746742          </td><td>-0.7106282           </td><td> 0.88798656          </td><td> 0.02478709          </td><td>-0.28432295          </td><td>-2.1352903           </td><td> 2.3953940           </td><td>-0.64475837          </td><td> 0.37713267          </td><td>-0.13647203          </td><td> 0.05847863          </td><td>-0.6470205           </td><td> 0.5930744           </td><td>-0.09556707          </td><td>-0.1277416           </td><td> 0.29862233          </td><td>-0.14688246          </td><td> 0.5523969           </td><td>-0.1333416           </td><td>-0.1453600426        </td><td>-0.12000315060       </td><td>-0.1757277           </td><td> 0.28890859          </td><td> 0.02643374          </td><td> 0.4319454           </td><td>-0.04734958          </td><td> 0.129710216         </td><td> 0.0879688380        </td><td>-0.07238220          </td><td> 0.032923933         </td><td>-0.10054392          </td><td> 0.30562215          </td><td>-0.10726572          </td><td> 0.01890469          </td><td>-0.04216789          </td><td> 0.06981232          </td><td> 0.009424846         </td><td> 0.2619504           </td><td>-0.06305589          </td><td> 0.063805199         </td><td>-0.05111032          </td><td>-0.12420986          </td><td> 0.02030074          </td><td> 0.18899986          </td><td> 0.06799199          </td><td> 0.01036751          </td><td> 0.12958394          </td><td> 0.15140289          </td><td>-0.13984697          </td><td>-0.094395238         </td><td>-0.1517878           </td><td> 0.07291327          </td><td> 0.05902168          </td><td>-0.1131900           </td><td> 0.02873712          </td><td> 0.1480837           </td><td>-0.08872274          </td><td> 0.14231330          </td><td>-0.17876314          </td><td> 0.0933493           </td><td> 0.1627538           </td><td>-0.1073464           </td><td> 0.26531088          </td><td>⋯                    </td><td> 0.00007268673       </td><td>-0.00002526232       </td><td> 0.00002946138       </td><td>-0.000001093695      </td><td> 0.00002245815       </td><td> 0.00003275125       </td><td> 0.00007480962       </td><td>-0.00008288754       </td><td> 0.000015026881      </td><td> 0.000002148662      </td><td>-0.00001467550       </td><td>-0.000002551273      </td><td>-0.000006765544      </td><td>-0.00001146593       </td><td>-0.00001545603       </td><td> 0.000019017901      </td><td> 0.000001531914      </td><td> 0.00003791073       </td><td> 0.00002099871       </td><td> 0.00003610423       </td><td> 0.000019038258      </td><td>-0.00002105430       </td><td>-0.000029101484      </td><td>-0.00000369276       </td><td> 0.00004472645       </td><td> 0.00001039377       </td><td>-0.000007141741      </td><td>-0.000011286186      </td><td> 0.00016894383       </td><td> 0.000009640888      </td><td> 0.00000432376       </td><td> 0.000010776224      </td><td> 0.000009985439      </td><td>-0.000006281480      </td><td> 0.00002474794       </td><td>-0.00002411535       </td><td>-0.000003408090      </td><td> 0.000006816445      </td><td>-0.000003382207      </td><td> 0.000008250186      </td><td> 0.000011152975      </td><td>-0.0000019633319     </td><td>-0.00000098132426    </td><td>-0.0000030072088     </td><td> 0.0000026316383     </td><td>-0.0000007084585     </td><td>-0.0000005777789     </td><td> 0.0000013417920     </td><td>-0.0000013212179     </td><td>-0.0000009570638     </td><td> 0.000001737907      </td><td>-0.0000002384574     </td><td>-0.0000002440817     </td><td>-0.0000002976742     </td><td>-0.0000002665146     </td><td>-0.00000006493436    </td><td> 0.0000030462701     </td><td>-0.000000058614272   </td><td> 0.00000010194118    </td><td>-0.000000002557922   </td><td> 0.00000003393464    </td><td> 0.000000006254541   </td><td>-0.000000001882222   </td><td> 0.00000000355121572 </td><td>-0.000000000001231005</td><td> 1.304078e-15        </td><td> 5.749795e-16        </td><td> 7.923349e-16        </td><td> 9.866240e-17        </td><td>-2.283330e-16        </td><td> 5.611830e-16        </td><td> 3.536667e-16        </td><td> 3.382711e-17        </td><td> 4.267420e-16        </td><td>-1.276377e-16        </td><td>-9.118140e-17        </td><td>-8.890458e-17        </td><td> 2.528902e-16        </td><td> 3.265617e-16        </td><td> 3.269954e-16        </td><td> 1.136244e-16        </td><td>-2.099015e-16        </td><td> 8.673617e-18        </td><td>-3.066124e-16        </td><td> 2.918130e-16        </td><td> 4.231641e-16        </td><td> 2.706169e-16        </td><td> 3.122502e-17        </td><td>-1.561251e-16        </td><td>-2.192257e-16        </td><td> 1.353084e-16        </td><td> 1.006140e-16        </td><td>-4.111295e-16        </td><td>-1.179612e-16        </td><td> 1.301043e-16        </td><td> 7.806256e-18        </td><td> 1.032160e-16        </td><td> 1.899522e-16        </td><td>-5.377643e-17        </td><td> 4.640385e-17        </td></tr>\n",
       "\t<tr><td>  3.656154           </td><td>-0.7974564           </td><td>-0.57477079          </td><td>-0.9472111           </td><td>-1.0965058           </td><td> 0.3920894           </td><td>-0.9048917           </td><td> 1.8470271           </td><td>-0.09110969          </td><td> 0.17911276          </td><td>-0.5733003           </td><td> 0.7197444           </td><td> 0.2578194           </td><td>-0.6298359           </td><td>-0.25124315          </td><td>-0.1058878           </td><td> 0.4344602           </td><td>-0.2442121           </td><td>-0.61345942          </td><td> 0.42989015          </td><td>-0.0115641           </td><td>1.3951497            </td><td>-0.09816322          </td><td>-0.4294274           </td><td>-0.05693979          </td><td>-0.18010582          </td><td> 1.0699435           </td><td>-0.3280171           </td><td> 1.0493793           </td><td>-0.6449118           </td><td> 0.3073919           </td><td>-0.2608723           </td><td>-0.01802329          </td><td>-0.01877759          </td><td>-0.3793057           </td><td>0.02956618           </td><td>-0.05197705          </td><td> 0.04319704          </td><td> 0.1026684           </td><td> 0.05002387          </td><td>-0.26426063          </td><td> 0.92868525          </td><td>-0.1326559           </td><td> 0.2100764           </td><td>-0.03591938          </td><td> 0.02352515          </td><td>-0.04139192          </td><td> 0.42965632          </td><td>-0.3046969           </td><td>-0.0235252           </td><td> 0.14717455          </td><td> 0.2608551           </td><td> 0.17528361          </td><td> 0.02291803          </td><td>-0.1123356           </td><td> 0.1747006           </td><td> 0.0008480653        </td><td>-0.00005505089       </td><td> 0.3925328           </td><td> 0.09064741          </td><td> 0.26454274          </td><td> 0.1647548           </td><td> 0.11813716          </td><td> 0.003556999         </td><td>-0.0004852918        </td><td> 0.31689344          </td><td> 0.005168369         </td><td> 0.13993776          </td><td>-0.03097780          </td><td> 0.01689668          </td><td>-0.09446056          </td><td>-0.15013552          </td><td> 0.25748763          </td><td>-0.071072610         </td><td>-0.1141215           </td><td> 0.05049726          </td><td> 0.008410718         </td><td> 0.01069981          </td><td> 0.07367072          </td><td>-0.08604841          </td><td>-0.03532004          </td><td>-0.03493258          </td><td> 0.19842203          </td><td> 0.25499752          </td><td> 0.11274992          </td><td> 0.17974583          </td><td> 0.108026327         </td><td> 0.1172723           </td><td> 0.21920932          </td><td>-0.05882856          </td><td> 0.2397785           </td><td>-0.41661561          </td><td>-0.1830603           </td><td> 0.23019052          </td><td> 0.03343982          </td><td>-0.01989491          </td><td>-0.2002837           </td><td>-0.4668138           </td><td> 0.1228926           </td><td> 0.09479190          </td><td>⋯                    </td><td> 0.00001417014       </td><td> 0.00009928694       </td><td> 0.00021344705       </td><td>-0.000191204664      </td><td>-0.00004849765       </td><td> 0.00003688853       </td><td>-0.00013908250       </td><td> 0.00022695683       </td><td> 0.000009961985      </td><td>-0.000224143986      </td><td> 0.00010322113       </td><td> 0.000007030216      </td><td>-0.000229935907      </td><td>-0.00011025505       </td><td>-0.00002918508       </td><td>-0.000016992742      </td><td>-0.000047192801      </td><td>-0.00007594520       </td><td>-0.00025119130       </td><td>-0.00000425626       </td><td>-0.000120108780      </td><td> 0.00014217865       </td><td> 0.000042982508      </td><td>-0.00006511638       </td><td>-0.00006221749       </td><td>-0.00004351164       </td><td>-0.000008805816      </td><td> 0.000028069197      </td><td>-0.00004827277       </td><td>-0.000037936321      </td><td>-0.00001822302       </td><td> 0.000043163902      </td><td>-0.000012421484      </td><td>-0.000006949072      </td><td> 0.00002175633       </td><td> 0.00001676177       </td><td>-0.000001543504      </td><td> 0.000017015604      </td><td> 0.000001099360      </td><td>-0.000006492906      </td><td>-0.000009714079      </td><td>-0.0000005582116     </td><td> 0.00000112257815    </td><td>-0.0000043799843     </td><td> 0.0000045404282     </td><td>-0.0000009304800     </td><td> 0.0000028015103     </td><td>-0.0000026572886     </td><td> 0.0000056854563     </td><td> 0.0000055631646     </td><td>-0.000005079609      </td><td> 0.0000020853655     </td><td>-0.0000004997963     </td><td> 0.0000007102223     </td><td> 0.0000008738054     </td><td>-0.00000026077850    </td><td>-0.0000008686053     </td><td> 0.000000271030175   </td><td>-0.00000006319114    </td><td> 0.000000039728774   </td><td>-0.00000002530380    </td><td>-0.000000002340400   </td><td>-0.000000001017124   </td><td> 0.00000006335698253 </td><td> 0.000000000015301607</td><td> 9.416296e-16        </td><td> 4.121324e-17        </td><td> 8.278968e-16        </td><td> 3.125755e-16        </td><td>-3.653761e-16        </td><td> 3.781697e-16        </td><td> 5.340780e-16        </td><td> 1.379105e-16        </td><td>-5.238865e-16        </td><td>-2.859854e-16        </td><td> 3.833739e-16        </td><td> 5.308254e-16        </td><td>-2.515349e-16        </td><td> 6.505213e-18        </td><td> 1.205633e-16        </td><td>-6.574602e-16        </td><td>-2.515349e-16        </td><td>-6.765422e-17        </td><td>-5.947933e-16        </td><td> 3.731282e-16        </td><td> 1.251440e-16        </td><td>-3.469447e-17        </td><td>-5.204170e-18        </td><td> 4.388850e-16        </td><td>-1.359590e-16        </td><td> 4.891920e-16        </td><td> 4.198031e-16        </td><td>-6.331741e-16        </td><td>-6.938894e-18        </td><td> 4.059253e-16        </td><td> 7.424616e-16        </td><td> 9.974660e-17        </td><td> 8.391725e-16        </td><td> 2.576064e-16        </td><td>-6.418477e-17        </td></tr>\n",
       "\t<tr><td>  2.928207           </td><td>-0.7078727           </td><td>-0.16419798          </td><td>-0.5316229           </td><td>-0.3805287           </td><td> 2.0788690           </td><td>-0.2151733           </td><td> 0.5846830           </td><td> 2.75586374          </td><td> 1.80071144          </td><td>-1.4247082           </td><td>-0.5172157           </td><td> 0.6339617           </td><td> 7.4196751           </td><td>-0.63601780          </td><td> 0.9356754           </td><td> 0.6013584           </td><td> 0.9918295           </td><td>-0.50354239          </td><td> 0.99520175          </td><td> 0.3092744           </td><td>1.1735940            </td><td> 1.19256404          </td><td>-2.6595416           </td><td>-0.62121355          </td><td> 0.21303855          </td><td>-0.6235638           </td><td>-0.9440171           </td><td>-0.5636717           </td><td> 0.5284636           </td><td>-0.7987798           </td><td>-0.6122034           </td><td>-0.50796876          </td><td> 0.12994556          </td><td> 0.2160991           </td><td>0.31717321           </td><td>-0.01837364          </td><td>-0.05804103          </td><td>-0.3963046           </td><td>-0.66535538          </td><td> 0.16527307          </td><td>-0.09035261          </td><td> 0.3528757           </td><td>-0.6988636           </td><td> 0.52878471          </td><td> 0.18324391          </td><td> 0.44186444          </td><td>-0.12973080          </td><td>-1.5057084           </td><td> 0.3257147           </td><td> 1.24060346          </td><td> 1.0323115           </td><td> 0.36907152          </td><td>-0.83343900          </td><td>-0.5567517           </td><td> 1.2892639           </td><td> 0.2019647877        </td><td>-0.90092946462       </td><td> 0.3201574           </td><td> 1.60354201          </td><td> 0.04871404          </td><td> 1.0757664           </td><td> 0.02198580          </td><td>-0.107325152         </td><td> 0.0335273171        </td><td>-0.04963184          </td><td>-0.053320732         </td><td>-0.28759948          </td><td>-0.08214751          </td><td> 0.27856542          </td><td>-0.10552075          </td><td>-0.01204301          </td><td>-0.13633268          </td><td> 0.072002559         </td><td>-0.3604511           </td><td>-0.10860673          </td><td>-0.001331648         </td><td> 0.13166238          </td><td> 0.66184294          </td><td>-0.10426955          </td><td> 0.83522659          </td><td> 0.03949810          </td><td>-0.04421696          </td><td>-0.06440507          </td><td> 0.12885341          </td><td> 0.07411721          </td><td>-0.243532970         </td><td>-0.4726369           </td><td>-0.11874921          </td><td> 0.08969351          </td><td>-0.4518617           </td><td>-0.31418068          </td><td> 0.1609091           </td><td>-0.42901612          </td><td> 0.22998632          </td><td>-0.02202354          </td><td> 0.1523907           </td><td> 0.2135266           </td><td> 0.2184276           </td><td>-0.06452738          </td><td>⋯                    </td><td> 0.00012618836       </td><td>-0.00002622201       </td><td> 0.00020861227       </td><td> 0.000117673200      </td><td>-0.00005508164       </td><td>-0.00015653589       </td><td>-0.00005762415       </td><td> 0.00003624746       </td><td>-0.000067974788      </td><td> 0.000086405414      </td><td>-0.00008272942       </td><td> 0.000035696259      </td><td> 0.000013071990      </td><td>-0.00007813766       </td><td>-0.00020659766       </td><td> 0.000003557766      </td><td>-0.000097722439      </td><td> 0.00005319926       </td><td>-0.00005554185       </td><td> 0.00018973926       </td><td> 0.000085780045      </td><td> 0.00002456651       </td><td> 0.000006134986      </td><td> 0.00002819096       </td><td>-0.00001259384       </td><td> 0.00007865118       </td><td> 0.000025598741      </td><td>-0.000028689795      </td><td>-0.00012032103       </td><td> 0.000013605869      </td><td>-0.00001261991       </td><td> 0.000002440783      </td><td>-0.000019525839      </td><td>-0.000039320476      </td><td>-0.00001033976       </td><td>-0.00006349851       </td><td>-0.000003852013      </td><td>-0.000012712826      </td><td> 0.000006976526      </td><td> 0.000009164287      </td><td> 0.000009022610      </td><td>-0.0000019587192     </td><td> 0.00000383914974    </td><td>-0.0000009308045     </td><td>-0.0000108854528     </td><td>-0.0000110345570     </td><td>-0.0000028462865     </td><td> 0.0000014041117     </td><td>-0.0000000978122     </td><td> 0.0000027393246     </td><td>-0.000005414870      </td><td>-0.0000002756832     </td><td> 0.0000001425050     </td><td>-0.0000008234365     </td><td>-0.0000001846125     </td><td>-0.00000100613832    </td><td>-0.0000002580668     </td><td> 0.000000162210657   </td><td>-0.00000031375861    </td><td> 0.000000010720465   </td><td>-0.00000001084168    </td><td> 0.000000004231045   </td><td> 0.000000001274976   </td><td> 0.00000000009874152 </td><td>-0.000000000010416432</td><td>-1.834470e-15        </td><td>-1.513072e-15        </td><td>-2.289618e-15        </td><td>-4.029979e-16        </td><td> 6.865168e-16        </td><td>-1.609823e-15        </td><td>-1.734940e-15        </td><td> 7.892992e-17        </td><td> 4.267420e-16        </td><td> 1.117623e-15        </td><td>-7.707593e-16        </td><td>-1.054278e-15        </td><td> 3.122502e-17        </td><td>-3.764350e-16        </td><td>-6.435824e-16        </td><td> 8.803722e-16        </td><td> 7.806256e-18        </td><td>-1.130172e-15        </td><td> 1.980837e-15        </td><td>-6.778432e-16        </td><td>-1.074770e-15        </td><td>-5.967449e-16        </td><td> 4.024558e-16        </td><td>-3.469447e-18        </td><td>-1.095044e-16        </td><td>-2.983724e-16        </td><td>-9.228729e-16        </td><td> 2.335805e-15        </td><td> 3.989864e-16        </td><td>-5.464379e-16        </td><td>-1.605053e-15        </td><td>-5.464379e-17        </td><td>-1.091575e-15        </td><td>-7.459311e-17        </td><td> 5.898060e-17        </td></tr>\n",
       "\t<tr><td>  0.348804           </td><td> 1.1407803           </td><td> 0.35756917          </td><td>-0.4862901           </td><td>-1.4250365           </td><td> 0.6475994           </td><td>-1.6010238           </td><td> 4.3241387           </td><td>-0.62937256          </td><td> 0.02018951          </td><td>-0.2935760           </td><td> 0.5250914           </td><td> 0.2539821           </td><td>-1.1209591           </td><td>-0.02852781          </td><td> 0.7791165           </td><td> 0.7753181           </td><td> 0.9819070           </td><td>-0.02620283          </td><td> 2.14945664          </td><td> 0.8261750           </td><td>1.5067372            </td><td> 0.80860111          </td><td>-3.6871478           </td><td>-0.94840440          </td><td> 1.34227003          </td><td>-2.8392791           </td><td>-0.8674966           </td><td>-2.7708534           </td><td> 1.8813789           </td><td>-2.0502739           </td><td> 0.4767891           </td><td>-0.36922803          </td><td>-0.35543122          </td><td> 0.3972176           </td><td>0.57945697           </td><td> 0.65360984          </td><td> 0.54763126          </td><td>-0.4861147           </td><td>-0.89531494          </td><td> 0.59060274          </td><td>-1.47358741          </td><td>-0.6018560           </td><td>-0.4233659           </td><td>-0.38703284          </td><td>-0.00410622          </td><td> 0.39393134          </td><td>-0.42496160          </td><td> 0.0169909           </td><td> 0.3533005           </td><td> 0.16784462          </td><td> 0.3942612           </td><td> 0.40702036          </td><td>-0.03934476          </td><td> 0.1610875           </td><td> 0.5138605           </td><td>-0.0110424540        </td><td> 0.34082462660       </td><td> 0.7337331           </td><td> 0.38832196          </td><td> 0.61077282          </td><td>-0.0483728           </td><td> 0.25387821          </td><td> 0.110714962         </td><td> 0.2905777098        </td><td>-0.23918677          </td><td> 0.030613389         </td><td> 0.02092912          </td><td>-0.31007472          </td><td> 0.26379014          </td><td>-0.84278712          </td><td> 0.27334348          </td><td>-0.05874301          </td><td> 0.189322078         </td><td>-0.9537352           </td><td> 0.07385377          </td><td>-0.035210027         </td><td> 0.15873521          </td><td> 0.11518808          </td><td>-0.03936922          </td><td>-0.64404518          </td><td> 0.08362562          </td><td>-0.03677736          </td><td> 0.11633831          </td><td>-0.01680048          </td><td> 1.06053694          </td><td> 1.075294976         </td><td> 0.5239674           </td><td> 1.24529342          </td><td>-0.21088507          </td><td> 1.3454848           </td><td>-0.48823179          </td><td>-0.2435853           </td><td> 0.52057550          </td><td> 0.44870158          </td><td>-0.03702755          </td><td>-0.5859410           </td><td>-0.6515117           </td><td>-0.7020151           </td><td> 0.20895884          </td><td>⋯                    </td><td>-0.00019526285       </td><td>-0.00036532260       </td><td>-0.00019825585       </td><td> 0.000241020470      </td><td> 0.00030682360       </td><td>-0.00021322339       </td><td>-0.00040434396       </td><td> 0.00011546415       </td><td> 0.000102580968      </td><td> 0.000086160082      </td><td> 0.00017318810       </td><td>-0.000015508078      </td><td> 0.000208551318      </td><td>-0.00009025882       </td><td>-0.00009658265       </td><td> 0.000027852839      </td><td>-0.000027150518      </td><td> 0.00005686467       </td><td> 0.00014953447       </td><td> 0.00014527889       </td><td>-0.000118125990      </td><td> 0.00017690465       </td><td>-0.000211934392      </td><td> 0.00003980669       </td><td> 0.00002599536       </td><td>-0.00002465778       </td><td>-0.000035602943      </td><td> 0.000010641736      </td><td> 0.00015927225       </td><td> 0.000137947078      </td><td> 0.00007174451       </td><td> 0.000079625951      </td><td>-0.000003228683      </td><td>-0.000046981541      </td><td>-0.00025414140       </td><td> 0.00004961733       </td><td>-0.000022943507      </td><td> 0.000083723936      </td><td> 0.000004720440      </td><td> 0.000011585971      </td><td> 0.000006122661      </td><td> 0.0000073937950     </td><td>-0.00000003469984    </td><td> 0.0000069903636     </td><td> 0.0000079538488     </td><td>-0.0000124852825     </td><td>-0.0000096228451     </td><td> 0.0000038804080     </td><td>-0.0000023512903     </td><td>-0.0000034652946     </td><td>-0.000005708358      </td><td> 0.0000003517623     </td><td>-0.0000015992896     </td><td>-0.0000004123118     </td><td> 0.0000001381713     </td><td> 0.00000245669487    </td><td>-0.0000005694462     </td><td> 0.000000007303838   </td><td>-0.00000044703974    </td><td>-0.000000016327376   </td><td>-0.00000003839811    </td><td>-0.000000011029066   </td><td> 0.000000001113933   </td><td>-0.00000003579569083 </td><td>-0.000000000035528804</td><td> 1.129739e-16        </td><td>-5.594212e-16        </td><td> 2.101184e-16        </td><td> 6.614717e-16        </td><td> 5.796145e-16        </td><td> 1.621966e-16        </td><td> 3.647256e-16        </td><td>-3.400058e-16        </td><td> 5.368969e-16        </td><td>-3.264262e-16        </td><td>-4.000706e-17        </td><td> 6.982262e-17        </td><td> 7.182839e-17        </td><td> 1.691355e-17        </td><td> 4.536302e-16        </td><td>-8.586881e-16        </td><td>-1.318390e-16        </td><td>-6.071532e-17        </td><td> 2.808084e-16        </td><td>-2.057274e-16        </td><td> 1.331942e-16        </td><td>-5.898060e-17        </td><td> 8.795048e-16        </td><td>-5.308254e-16        </td><td> 1.465841e-16        </td><td> 4.163336e-16        </td><td> 5.169476e-16        </td><td>-5.212844e-16        </td><td>-3.538836e-16        </td><td> 1.734723e-17        </td><td> 5.655199e-16        </td><td>-3.209238e-17        </td><td> 1.105886e-16        </td><td> 1.118897e-16        </td><td>-1.726050e-16        </td></tr>\n",
       "</tbody>\n",
       "</table>\n"
      ],
      "text/latex": [
       "\\begin{tabular}{lllllllllllllllllllllllllllllllllllllllllllllllllllllllllllllllllllllllllllllllllllllllllllllllllllllllllllllllllllllllllllllllllllllllllllllllllllllllllllllllllllllllllllllllllllllllllllllllllllllllllllllllllllllllllllllllllllllllllllllllllllllllllllllllllllllllllllllllllllllllllllllllllllllllllllllllllllllllllllllllllllllllllllllllllllllllllllllllllllllllllllllllllllllllllllllllllllllllllllllllllllllllllllllllllllllllllllllllllllllllllllllllllllllllllllllllllllllllllllllllllllllllllllllllllllllllllllllllllllllllllllllllllllllllllllllllllllllllllllllllllllllllllllllllllllllllllllllllllllllllllllllllllllllllllllllllllllllllllllllllllllllllllllllllllllllllllllllllllllllllllllllllllllllllllllllllllllllllllllllllllllllllllllllllll}\n",
       " PC1 & PC2 & PC3 & PC4 & PC5 & PC6 & PC7 & PC8 & PC9 & PC10 & PC11 & PC12 & PC13 & PC14 & PC15 & PC16 & PC17 & PC18 & PC19 & PC20 & PC21 & PC22 & PC23 & PC24 & PC25 & PC26 & PC27 & PC28 & PC29 & PC30 & PC31 & PC32 & PC33 & PC34 & PC35 & PC36 & PC37 & PC38 & PC39 & PC40 & PC41 & PC42 & PC43 & PC44 & PC45 & PC46 & PC47 & PC48 & PC49 & PC50 & PC51 & PC52 & PC53 & PC54 & PC55 & PC56 & PC57 & PC58 & PC59 & PC60 & PC61 & PC62 & PC63 & PC64 & PC65 & PC66 & PC67 & PC68 & PC69 & PC70 & PC71 & PC72 & PC73 & PC74 & PC75 & PC76 & PC77 & PC78 & PC79 & PC80 & PC81 & PC82 & PC83 & PC84 & PC85 & PC86 & PC87 & PC88 & PC89 & PC90 & PC91 & PC92 & PC93 & PC94 & PC95 & PC96 & PC97 & PC98 & PC99 & PC100 & ⋯ & PC638 & PC639 & PC640 & PC641 & PC642 & PC643 & PC644 & PC645 & PC646 & PC647 & PC648 & PC649 & PC650 & PC651 & PC652 & PC653 & PC654 & PC655 & PC656 & PC657 & PC658 & PC659 & PC660 & PC661 & PC662 & PC663 & PC664 & PC665 & PC666 & PC667 & PC668 & PC669 & PC670 & PC671 & PC672 & PC673 & PC674 & PC675 & PC676 & PC677 & PC678 & PC679 & PC680 & PC681 & PC682 & PC683 & PC684 & PC685 & PC686 & PC687 & PC688 & PC689 & PC690 & PC691 & PC692 & PC693 & PC694 & PC695 & PC696 & PC697 & PC698 & PC699 & PC700 & PC701 & PC702 & PC703 & PC704 & PC705 & PC706 & PC707 & PC708 & PC709 & PC710 & PC711 & PC712 & PC713 & PC714 & PC715 & PC716 & PC717 & PC718 & PC719 & PC720 & PC721 & PC722 & PC723 & PC724 & PC725 & PC726 & PC727 & PC728 & PC729 & PC730 & PC731 & PC732 & PC733 & PC734 & PC735 & PC736 & PC737\\\\\n",
       "\\hline\n",
       "\t   3.437026            & -0.2214612            &  0.42173751           & -0.6326742            &  1.5547346            & -0.5654384            &  2.0475876            & -4.7934517            &  2.57730773           &  1.08458798           & -1.0862641            & -0.7297127            &  0.2969840            &  6.8506191            & -1.40348828           &  1.0990780            &  0.1814650            &  0.9899768            & -0.79304191           &  0.19916007           & -0.3167686            & 1.0530731             &  1.67811387           & -0.8667728            & -0.37924724           & -1.16145300           &  1.0876456            & -1.0402680            &  0.8550118            & -0.1308677            & -0.9077599            &  0.2754206            & -0.72754324           & -0.04243444           & -1.0435284            & 0.37192500            &  0.09528258           &  1.00867366           & -0.6293308            &  0.55889783           & -0.13176967           &  0.52259389           & -1.7070397            &  2.7192290            & -0.34168959           &  0.22828921           & -0.09991265           & -0.57794811           & -0.2900903            &  0.2200521            & -0.47605676           & -0.1951741            & -0.05089903           & -0.07024937           &  0.4389557            & -0.2722637            & -0.0987418064         & -0.31595011204        & -0.6649850            &  0.59204523           &  0.48727964           &  0.3470977            &  0.29489569           & -0.283226674          & -0.4221029033         & -0.09672700           & -0.074176035          &  0.57985545           &  0.22562304           & -0.96556143           &  0.26177436           &  1.48999300           & -0.24223471           & -0.840735798          &  1.0517995            & -1.50630962           & -2.633578488          & -1.49749046           & -4.00246257           & -0.82597660           & -3.83926181           & -1.85721178           &  1.62861480           & -0.58109160           & -2.41890422           &  0.82976699           &  0.002919377          &  1.9151847            & -1.63955262           & -0.61220391           &  0.3054356            &  1.62475884           & -0.2848171            &  0.19355465           &  0.15458417           &  0.44065724           &  0.1104779            & -0.9759045            & -0.1275174            & -0.46725093           & ⋯                     &  0.00026890976        & -0.00023635091        &  0.00044341450        &  0.000090364199       &  0.00023843817        & -0.00005206102        &  0.00003903972        & -0.00007387230        & -0.000157449675       & -0.000138641626       & -0.00002854977        &  0.000042287001       &  0.000292705013       &  0.00032473936        &  0.00014567185        &  0.000146448396       & -0.000170107920       & -0.00003448985        &  0.00028558601        &  0.00016365036        & -0.000154234510       & -0.00029234046        & -0.000100922050       & -0.00004458205        &  0.00032625554        &  0.00008389825        & -0.000011824119       & -0.000025850869       &  0.00020615730        & -0.000042683233       & -0.00008624288        &  0.000004802560       & -0.000190323006       & -0.000037667508       & -0.00006097613        & -0.00006945291        &  0.000179219572       & -0.000033429299       &  0.000029288835       & -0.000012324662       &  0.000009052659       & -0.0000123097086      & -0.00001491322074     & -0.0000082646511      &  0.0000148841842      & -0.0000113819402      & -0.0000023825739      &  0.0000158681347      & -0.0000091692953      &  0.0000053559286      & -0.000008791974       &  0.0000073379265      & -0.0000020720397      & -0.0000040715156      & -0.0000020103303      & -0.00000096224209     & -0.0000030342634      & -0.000000119544701    & -0.00000065985314     & -0.000000025465513    & -0.00000001409388     & -0.000000001776530    & -0.000000018341912    &  0.00000000296975142  & -0.000000000037619422 &  3.690191e-15         &  3.265671e-15         &  2.619432e-16         &  1.590199e-15         &  5.377643e-17         & -3.053113e-16         & -1.207801e-15         &  3.963843e-16         &  6.071532e-16         &  2.087631e-16         & -1.208777e-15         &  1.444157e-16         & -4.951009e-16         &  2.328866e-16         &  1.153591e-16         &  2.072995e-16         & -8.101159e-16         & -1.053845e-15         &  4.189357e-16         &  3.964927e-16         &  1.019150e-17         & -6.245005e-17         & -1.231654e-16         & -2.116363e-16         & -7.973223e-16         & -8.187895e-16         & -2.706169e-16         &  1.040834e-15         &  1.106754e-15         &  7.754214e-16         & -2.735225e-15         &  3.851086e-16         &  5.802650e-16         &  2.246467e-16         &  4.163336e-17        \\\\\n",
       "\t -12.033145            &  0.8010104            &  5.91825772           & -0.8021252            &  6.7209209            & -3.0465557            &  0.3474168            & -0.9159117            & -0.08654886           & -3.11236549           & -2.0995968            & -0.6278466            &  2.3324190            & -1.9084853            &  0.31186074           &  0.6937267            & -0.7265996            &  0.6662153            & -0.96433985           &  0.17794874           & -1.2926844            & 1.3592125             &  0.94050043           &  1.0356987            &  0.75765557           & -0.11165343           &  0.9808930            & -0.6856368            &  0.7187212            &  2.6065871            & -0.6523321            &  3.3557478            &  0.06768979           & -2.00382142           &  0.1395784            & 1.34276721            & -0.81881894           &  0.46464860           &  1.0663024            & -0.69449900           & -0.09554024           & -0.63869885           & -1.2013752            &  4.5053108            & -0.97609252           &  1.07139450           & -0.42636989           & -2.33135283           & -2.1107092            & -0.9136736            &  1.85379421           &  0.4307178            & -1.15705271           &  1.85382771           & -2.0183727            &  0.2564544            &  2.7786000618         & -1.01659127400        &  0.9466709            & -3.79799335           & -1.08722915           &  0.8517831            & -0.23961512           & -4.379882903          & -4.0756682379         &  0.63464908           & -0.578779053          &  0.37596378           & -0.24206335           &  0.89831718           & -0.47784275           &  1.60817799           &  0.96883887           & -2.344135914          & -2.0385258            &  1.59657448           & -1.024892621          &  0.67927907           & -1.29003539           & -0.06713490           &  0.37567971           & -0.04532559           & -0.06186774           &  1.47559615           &  1.86874890           & -1.11161546           & -1.139544188          & -0.1687775            & -0.19661999           & -0.26339430           &  0.2274362            &  0.82378200           & -0.2819120            & -0.70414098           & -0.49292062           &  0.85686756           &  0.1021721            &  0.4081682            &  0.3101058            & -2.24106470           & ⋯                     &  0.00044419513        & -0.00074078795        &  0.00092987121        & -0.000562698249       & -0.00021681527        & -0.00003561510        & -0.00014112630        &  0.00112216369        & -0.000374821877       & -0.000081822022       & -0.00024421441        &  0.000105159602       & -0.000229677806       &  0.00002160674        & -0.00007430516        & -0.000410353705       &  0.000445659705       & -0.00007056489        &  0.00005032614        &  0.00014796502        &  0.000001207547       & -0.00002898364        &  0.000164446959       & -0.00019000209        & -0.00001824788        & -0.00024797175        & -0.000082749088       &  0.000004824046       & -0.00003158558        &  0.000058858605       & -0.00005023632        & -0.000011620866       &  0.000036379590       &  0.000121204748       & -0.00002102718        & -0.00016704115        & -0.000071873276       &  0.000076239659       &  0.000031202804       &  0.000004253692       &  0.000016198784       & -0.0000319055956      &  0.00004934101374     & -0.0000019985868      & -0.0000003731106      &  0.0000258799493      &  0.0000034907428      & -0.0000006777451      &  0.0000111668269      &  0.0000180551718      & -0.000001393200       & -0.0000100334794      &  0.0000038079393      &  0.0000029277437      &  0.0000030559442      &  0.00000619337988     &  0.0000008551504      & -0.000000763849132    & -0.00000051133374     &  0.000000089617727    &  0.00000003730669     &  0.000000008505719    & -0.000000003250545    &  0.00000006063336218  & -0.000000000069490025 &  4.385923e-15         &  2.186741e-15         &  1.322293e-15         &  2.059984e-16         &  2.015749e-15         &  3.469447e-16         & -6.485697e-16         &  1.035630e-15         &  9.714451e-16         & -1.236451e-15         & -4.767237e-16         &  2.593412e-16         &  1.002562e-15         & -6.973588e-16         &  3.018419e-16         & -1.445892e-15         &  3.478121e-16         &  1.125836e-15         & -1.111090e-15         &  9.875998e-16         &  9.875727e-16         &  7.771561e-16         &  8.708312e-16         & -1.679212e-15         & -1.613293e-16         &  2.463307e-16         &  8.708312e-16         & -6.800116e-16         & -2.671474e-16         & -2.550044e-16         &  2.493665e-15         &  1.621966e-16         &  3.070461e-16         &  1.500536e-16         & -3.538836e-16        \\\\\n",
       "\t   3.953238            & -0.7553501            &  0.07550776           & -0.3825126            &  1.4766452            & -1.6298921            &  1.7174488            & -4.0298611            & -0.40460361           & -0.43665316           &  0.2440097            &  0.2832762            & -0.2873760            & -1.2865271            & -0.23819151           &  0.1925911            & -0.2650001            &  0.1374451            &  0.10011591           & -0.01429907           & -0.3395014            & 0.2491561             &  0.61531770           &  0.2487877            &  0.31159783           &  0.08067493           & -0.3952104            &  0.2604924            & -0.5875763            &  0.9711158            & -1.3397643            &  0.3761314            & -0.60218477           &  0.10029039           & -0.1221895            & 0.52527428            & -0.61701828           &  1.31746742           & -0.7106282            &  0.88798656           &  0.02478709           & -0.28432295           & -2.1352903            &  2.3953940            & -0.64475837           &  0.37713267           & -0.13647203           &  0.05847863           & -0.6470205            &  0.5930744            & -0.09556707           & -0.1277416            &  0.29862233           & -0.14688246           &  0.5523969            & -0.1333416            & -0.1453600426         & -0.12000315060        & -0.1757277            &  0.28890859           &  0.02643374           &  0.4319454            & -0.04734958           &  0.129710216          &  0.0879688380         & -0.07238220           &  0.032923933          & -0.10054392           &  0.30562215           & -0.10726572           &  0.01890469           & -0.04216789           &  0.06981232           &  0.009424846          &  0.2619504            & -0.06305589           &  0.063805199          & -0.05111032           & -0.12420986           &  0.02030074           &  0.18899986           &  0.06799199           &  0.01036751           &  0.12958394           &  0.15140289           & -0.13984697           & -0.094395238          & -0.1517878            &  0.07291327           &  0.05902168           & -0.1131900            &  0.02873712           &  0.1480837            & -0.08872274           &  0.14231330           & -0.17876314           &  0.0933493            &  0.1627538            & -0.1073464            &  0.26531088           & ⋯                     &  0.00007268673        & -0.00002526232        &  0.00002946138        & -0.000001093695       &  0.00002245815        &  0.00003275125        &  0.00007480962        & -0.00008288754        &  0.000015026881       &  0.000002148662       & -0.00001467550        & -0.000002551273       & -0.000006765544       & -0.00001146593        & -0.00001545603        &  0.000019017901       &  0.000001531914       &  0.00003791073        &  0.00002099871        &  0.00003610423        &  0.000019038258       & -0.00002105430        & -0.000029101484       & -0.00000369276        &  0.00004472645        &  0.00001039377        & -0.000007141741       & -0.000011286186       &  0.00016894383        &  0.000009640888       &  0.00000432376        &  0.000010776224       &  0.000009985439       & -0.000006281480       &  0.00002474794        & -0.00002411535        & -0.000003408090       &  0.000006816445       & -0.000003382207       &  0.000008250186       &  0.000011152975       & -0.0000019633319      & -0.00000098132426     & -0.0000030072088      &  0.0000026316383      & -0.0000007084585      & -0.0000005777789      &  0.0000013417920      & -0.0000013212179      & -0.0000009570638      &  0.000001737907       & -0.0000002384574      & -0.0000002440817      & -0.0000002976742      & -0.0000002665146      & -0.00000006493436     &  0.0000030462701      & -0.000000058614272    &  0.00000010194118     & -0.000000002557922    &  0.00000003393464     &  0.000000006254541    & -0.000000001882222    &  0.00000000355121572  & -0.000000000001231005 &  1.304078e-15         &  5.749795e-16         &  7.923349e-16         &  9.866240e-17         & -2.283330e-16         &  5.611830e-16         &  3.536667e-16         &  3.382711e-17         &  4.267420e-16         & -1.276377e-16         & -9.118140e-17         & -8.890458e-17         &  2.528902e-16         &  3.265617e-16         &  3.269954e-16         &  1.136244e-16         & -2.099015e-16         &  8.673617e-18         & -3.066124e-16         &  2.918130e-16         &  4.231641e-16         &  2.706169e-16         &  3.122502e-17         & -1.561251e-16         & -2.192257e-16         &  1.353084e-16         &  1.006140e-16         & -4.111295e-16         & -1.179612e-16         &  1.301043e-16         &  7.806256e-18         &  1.032160e-16         &  1.899522e-16         & -5.377643e-17         &  4.640385e-17        \\\\\n",
       "\t   3.656154            & -0.7974564            & -0.57477079           & -0.9472111            & -1.0965058            &  0.3920894            & -0.9048917            &  1.8470271            & -0.09110969           &  0.17911276           & -0.5733003            &  0.7197444            &  0.2578194            & -0.6298359            & -0.25124315           & -0.1058878            &  0.4344602            & -0.2442121            & -0.61345942           &  0.42989015           & -0.0115641            & 1.3951497             & -0.09816322           & -0.4294274            & -0.05693979           & -0.18010582           &  1.0699435            & -0.3280171            &  1.0493793            & -0.6449118            &  0.3073919            & -0.2608723            & -0.01802329           & -0.01877759           & -0.3793057            & 0.02956618            & -0.05197705           &  0.04319704           &  0.1026684            &  0.05002387           & -0.26426063           &  0.92868525           & -0.1326559            &  0.2100764            & -0.03591938           &  0.02352515           & -0.04139192           &  0.42965632           & -0.3046969            & -0.0235252            &  0.14717455           &  0.2608551            &  0.17528361           &  0.02291803           & -0.1123356            &  0.1747006            &  0.0008480653         & -0.00005505089        &  0.3925328            &  0.09064741           &  0.26454274           &  0.1647548            &  0.11813716           &  0.003556999          & -0.0004852918         &  0.31689344           &  0.005168369          &  0.13993776           & -0.03097780           &  0.01689668           & -0.09446056           & -0.15013552           &  0.25748763           & -0.071072610          & -0.1141215            &  0.05049726           &  0.008410718          &  0.01069981           &  0.07367072           & -0.08604841           & -0.03532004           & -0.03493258           &  0.19842203           &  0.25499752           &  0.11274992           &  0.17974583           &  0.108026327          &  0.1172723            &  0.21920932           & -0.05882856           &  0.2397785            & -0.41661561           & -0.1830603            &  0.23019052           &  0.03343982           & -0.01989491           & -0.2002837            & -0.4668138            &  0.1228926            &  0.09479190           & ⋯                     &  0.00001417014        &  0.00009928694        &  0.00021344705        & -0.000191204664       & -0.00004849765        &  0.00003688853        & -0.00013908250        &  0.00022695683        &  0.000009961985       & -0.000224143986       &  0.00010322113        &  0.000007030216       & -0.000229935907       & -0.00011025505        & -0.00002918508        & -0.000016992742       & -0.000047192801       & -0.00007594520        & -0.00025119130        & -0.00000425626        & -0.000120108780       &  0.00014217865        &  0.000042982508       & -0.00006511638        & -0.00006221749        & -0.00004351164        & -0.000008805816       &  0.000028069197       & -0.00004827277        & -0.000037936321       & -0.00001822302        &  0.000043163902       & -0.000012421484       & -0.000006949072       &  0.00002175633        &  0.00001676177        & -0.000001543504       &  0.000017015604       &  0.000001099360       & -0.000006492906       & -0.000009714079       & -0.0000005582116      &  0.00000112257815     & -0.0000043799843      &  0.0000045404282      & -0.0000009304800      &  0.0000028015103      & -0.0000026572886      &  0.0000056854563      &  0.0000055631646      & -0.000005079609       &  0.0000020853655      & -0.0000004997963      &  0.0000007102223      &  0.0000008738054      & -0.00000026077850     & -0.0000008686053      &  0.000000271030175    & -0.00000006319114     &  0.000000039728774    & -0.00000002530380     & -0.000000002340400    & -0.000000001017124    &  0.00000006335698253  &  0.000000000015301607 &  9.416296e-16         &  4.121324e-17         &  8.278968e-16         &  3.125755e-16         & -3.653761e-16         &  3.781697e-16         &  5.340780e-16         &  1.379105e-16         & -5.238865e-16         & -2.859854e-16         &  3.833739e-16         &  5.308254e-16         & -2.515349e-16         &  6.505213e-18         &  1.205633e-16         & -6.574602e-16         & -2.515349e-16         & -6.765422e-17         & -5.947933e-16         &  3.731282e-16         &  1.251440e-16         & -3.469447e-17         & -5.204170e-18         &  4.388850e-16         & -1.359590e-16         &  4.891920e-16         &  4.198031e-16         & -6.331741e-16         & -6.938894e-18         &  4.059253e-16         &  7.424616e-16         &  9.974660e-17         &  8.391725e-16         &  2.576064e-16         & -6.418477e-17        \\\\\n",
       "\t   2.928207            & -0.7078727            & -0.16419798           & -0.5316229            & -0.3805287            &  2.0788690            & -0.2151733            &  0.5846830            &  2.75586374           &  1.80071144           & -1.4247082            & -0.5172157            &  0.6339617            &  7.4196751            & -0.63601780           &  0.9356754            &  0.6013584            &  0.9918295            & -0.50354239           &  0.99520175           &  0.3092744            & 1.1735940             &  1.19256404           & -2.6595416            & -0.62121355           &  0.21303855           & -0.6235638            & -0.9440171            & -0.5636717            &  0.5284636            & -0.7987798            & -0.6122034            & -0.50796876           &  0.12994556           &  0.2160991            & 0.31717321            & -0.01837364           & -0.05804103           & -0.3963046            & -0.66535538           &  0.16527307           & -0.09035261           &  0.3528757            & -0.6988636            &  0.52878471           &  0.18324391           &  0.44186444           & -0.12973080           & -1.5057084            &  0.3257147            &  1.24060346           &  1.0323115            &  0.36907152           & -0.83343900           & -0.5567517            &  1.2892639            &  0.2019647877         & -0.90092946462        &  0.3201574            &  1.60354201           &  0.04871404           &  1.0757664            &  0.02198580           & -0.107325152          &  0.0335273171         & -0.04963184           & -0.053320732          & -0.28759948           & -0.08214751           &  0.27856542           & -0.10552075           & -0.01204301           & -0.13633268           &  0.072002559          & -0.3604511            & -0.10860673           & -0.001331648          &  0.13166238           &  0.66184294           & -0.10426955           &  0.83522659           &  0.03949810           & -0.04421696           & -0.06440507           &  0.12885341           &  0.07411721           & -0.243532970          & -0.4726369            & -0.11874921           &  0.08969351           & -0.4518617            & -0.31418068           &  0.1609091            & -0.42901612           &  0.22998632           & -0.02202354           &  0.1523907            &  0.2135266            &  0.2184276            & -0.06452738           & ⋯                     &  0.00012618836        & -0.00002622201        &  0.00020861227        &  0.000117673200       & -0.00005508164        & -0.00015653589        & -0.00005762415        &  0.00003624746        & -0.000067974788       &  0.000086405414       & -0.00008272942        &  0.000035696259       &  0.000013071990       & -0.00007813766        & -0.00020659766        &  0.000003557766       & -0.000097722439       &  0.00005319926        & -0.00005554185        &  0.00018973926        &  0.000085780045       &  0.00002456651        &  0.000006134986       &  0.00002819096        & -0.00001259384        &  0.00007865118        &  0.000025598741       & -0.000028689795       & -0.00012032103        &  0.000013605869       & -0.00001261991        &  0.000002440783       & -0.000019525839       & -0.000039320476       & -0.00001033976        & -0.00006349851        & -0.000003852013       & -0.000012712826       &  0.000006976526       &  0.000009164287       &  0.000009022610       & -0.0000019587192      &  0.00000383914974     & -0.0000009308045      & -0.0000108854528      & -0.0000110345570      & -0.0000028462865      &  0.0000014041117      & -0.0000000978122      &  0.0000027393246      & -0.000005414870       & -0.0000002756832      &  0.0000001425050      & -0.0000008234365      & -0.0000001846125      & -0.00000100613832     & -0.0000002580668      &  0.000000162210657    & -0.00000031375861     &  0.000000010720465    & -0.00000001084168     &  0.000000004231045    &  0.000000001274976    &  0.00000000009874152  & -0.000000000010416432 & -1.834470e-15         & -1.513072e-15         & -2.289618e-15         & -4.029979e-16         &  6.865168e-16         & -1.609823e-15         & -1.734940e-15         &  7.892992e-17         &  4.267420e-16         &  1.117623e-15         & -7.707593e-16         & -1.054278e-15         &  3.122502e-17         & -3.764350e-16         & -6.435824e-16         &  8.803722e-16         &  7.806256e-18         & -1.130172e-15         &  1.980837e-15         & -6.778432e-16         & -1.074770e-15         & -5.967449e-16         &  4.024558e-16         & -3.469447e-18         & -1.095044e-16         & -2.983724e-16         & -9.228729e-16         &  2.335805e-15         &  3.989864e-16         & -5.464379e-16         & -1.605053e-15         & -5.464379e-17         & -1.091575e-15         & -7.459311e-17         &  5.898060e-17        \\\\\n",
       "\t   0.348804            &  1.1407803            &  0.35756917           & -0.4862901            & -1.4250365            &  0.6475994            & -1.6010238            &  4.3241387            & -0.62937256           &  0.02018951           & -0.2935760            &  0.5250914            &  0.2539821            & -1.1209591            & -0.02852781           &  0.7791165            &  0.7753181            &  0.9819070            & -0.02620283           &  2.14945664           &  0.8261750            & 1.5067372             &  0.80860111           & -3.6871478            & -0.94840440           &  1.34227003           & -2.8392791            & -0.8674966            & -2.7708534            &  1.8813789            & -2.0502739            &  0.4767891            & -0.36922803           & -0.35543122           &  0.3972176            & 0.57945697            &  0.65360984           &  0.54763126           & -0.4861147            & -0.89531494           &  0.59060274           & -1.47358741           & -0.6018560            & -0.4233659            & -0.38703284           & -0.00410622           &  0.39393134           & -0.42496160           &  0.0169909            &  0.3533005            &  0.16784462           &  0.3942612            &  0.40702036           & -0.03934476           &  0.1610875            &  0.5138605            & -0.0110424540         &  0.34082462660        &  0.7337331            &  0.38832196           &  0.61077282           & -0.0483728            &  0.25387821           &  0.110714962          &  0.2905777098         & -0.23918677           &  0.030613389          &  0.02092912           & -0.31007472           &  0.26379014           & -0.84278712           &  0.27334348           & -0.05874301           &  0.189322078          & -0.9537352            &  0.07385377           & -0.035210027          &  0.15873521           &  0.11518808           & -0.03936922           & -0.64404518           &  0.08362562           & -0.03677736           &  0.11633831           & -0.01680048           &  1.06053694           &  1.075294976          &  0.5239674            &  1.24529342           & -0.21088507           &  1.3454848            & -0.48823179           & -0.2435853            &  0.52057550           &  0.44870158           & -0.03702755           & -0.5859410            & -0.6515117            & -0.7020151            &  0.20895884           & ⋯                     & -0.00019526285        & -0.00036532260        & -0.00019825585        &  0.000241020470       &  0.00030682360        & -0.00021322339        & -0.00040434396        &  0.00011546415        &  0.000102580968       &  0.000086160082       &  0.00017318810        & -0.000015508078       &  0.000208551318       & -0.00009025882        & -0.00009658265        &  0.000027852839       & -0.000027150518       &  0.00005686467        &  0.00014953447        &  0.00014527889        & -0.000118125990       &  0.00017690465        & -0.000211934392       &  0.00003980669        &  0.00002599536        & -0.00002465778        & -0.000035602943       &  0.000010641736       &  0.00015927225        &  0.000137947078       &  0.00007174451        &  0.000079625951       & -0.000003228683       & -0.000046981541       & -0.00025414140        &  0.00004961733        & -0.000022943507       &  0.000083723936       &  0.000004720440       &  0.000011585971       &  0.000006122661       &  0.0000073937950      & -0.00000003469984     &  0.0000069903636      &  0.0000079538488      & -0.0000124852825      & -0.0000096228451      &  0.0000038804080      & -0.0000023512903      & -0.0000034652946      & -0.000005708358       &  0.0000003517623      & -0.0000015992896      & -0.0000004123118      &  0.0000001381713      &  0.00000245669487     & -0.0000005694462      &  0.000000007303838    & -0.00000044703974     & -0.000000016327376    & -0.00000003839811     & -0.000000011029066    &  0.000000001113933    & -0.00000003579569083  & -0.000000000035528804 &  1.129739e-16         & -5.594212e-16         &  2.101184e-16         &  6.614717e-16         &  5.796145e-16         &  1.621966e-16         &  3.647256e-16         & -3.400058e-16         &  5.368969e-16         & -3.264262e-16         & -4.000706e-17         &  6.982262e-17         &  7.182839e-17         &  1.691355e-17         &  4.536302e-16         & -8.586881e-16         & -1.318390e-16         & -6.071532e-17         &  2.808084e-16         & -2.057274e-16         &  1.331942e-16         & -5.898060e-17         &  8.795048e-16         & -5.308254e-16         &  1.465841e-16         &  4.163336e-16         &  5.169476e-16         & -5.212844e-16         & -3.538836e-16         &  1.734723e-17         &  5.655199e-16         & -3.209238e-17         &  1.105886e-16         &  1.118897e-16         & -1.726050e-16        \\\\\n",
       "\\end{tabular}\n"
      ],
      "text/markdown": [
       "\n",
       "| PC1 | PC2 | PC3 | PC4 | PC5 | PC6 | PC7 | PC8 | PC9 | PC10 | PC11 | PC12 | PC13 | PC14 | PC15 | PC16 | PC17 | PC18 | PC19 | PC20 | PC21 | PC22 | PC23 | PC24 | PC25 | PC26 | PC27 | PC28 | PC29 | PC30 | PC31 | PC32 | PC33 | PC34 | PC35 | PC36 | PC37 | PC38 | PC39 | PC40 | PC41 | PC42 | PC43 | PC44 | PC45 | PC46 | PC47 | PC48 | PC49 | PC50 | PC51 | PC52 | PC53 | PC54 | PC55 | PC56 | PC57 | PC58 | PC59 | PC60 | PC61 | PC62 | PC63 | PC64 | PC65 | PC66 | PC67 | PC68 | PC69 | PC70 | PC71 | PC72 | PC73 | PC74 | PC75 | PC76 | PC77 | PC78 | PC79 | PC80 | PC81 | PC82 | PC83 | PC84 | PC85 | PC86 | PC87 | PC88 | PC89 | PC90 | PC91 | PC92 | PC93 | PC94 | PC95 | PC96 | PC97 | PC98 | PC99 | PC100 | ⋯ | PC638 | PC639 | PC640 | PC641 | PC642 | PC643 | PC644 | PC645 | PC646 | PC647 | PC648 | PC649 | PC650 | PC651 | PC652 | PC653 | PC654 | PC655 | PC656 | PC657 | PC658 | PC659 | PC660 | PC661 | PC662 | PC663 | PC664 | PC665 | PC666 | PC667 | PC668 | PC669 | PC670 | PC671 | PC672 | PC673 | PC674 | PC675 | PC676 | PC677 | PC678 | PC679 | PC680 | PC681 | PC682 | PC683 | PC684 | PC685 | PC686 | PC687 | PC688 | PC689 | PC690 | PC691 | PC692 | PC693 | PC694 | PC695 | PC696 | PC697 | PC698 | PC699 | PC700 | PC701 | PC702 | PC703 | PC704 | PC705 | PC706 | PC707 | PC708 | PC709 | PC710 | PC711 | PC712 | PC713 | PC714 | PC715 | PC716 | PC717 | PC718 | PC719 | PC720 | PC721 | PC722 | PC723 | PC724 | PC725 | PC726 | PC727 | PC728 | PC729 | PC730 | PC731 | PC732 | PC733 | PC734 | PC735 | PC736 | PC737 |\n",
       "|---|---|---|---|---|---|---|---|---|---|---|---|---|---|---|---|---|---|---|---|---|---|---|---|---|---|---|---|---|---|---|---|---|---|---|---|---|---|---|---|---|---|---|---|---|---|---|---|---|---|---|---|---|---|---|---|---|---|---|---|---|---|---|---|---|---|---|---|---|---|---|---|---|---|---|---|---|---|---|---|---|---|---|---|---|---|---|---|---|---|---|---|---|---|---|---|---|---|---|---|---|---|---|---|---|---|---|---|---|---|---|---|---|---|---|---|---|---|---|---|---|---|---|---|---|---|---|---|---|---|---|---|---|---|---|---|---|---|---|---|---|---|---|---|---|---|---|---|---|---|---|---|---|---|---|---|---|---|---|---|---|---|---|---|---|---|---|---|---|---|---|---|---|---|---|---|---|---|---|---|---|---|---|---|---|---|---|---|---|---|---|---|---|---|---|---|---|---|---|---|---|\n",
       "|   3.437026            | -0.2214612            |  0.42173751           | -0.6326742            |  1.5547346            | -0.5654384            |  2.0475876            | -4.7934517            |  2.57730773           |  1.08458798           | -1.0862641            | -0.7297127            |  0.2969840            |  6.8506191            | -1.40348828           |  1.0990780            |  0.1814650            |  0.9899768            | -0.79304191           |  0.19916007           | -0.3167686            | 1.0530731             |  1.67811387           | -0.8667728            | -0.37924724           | -1.16145300           |  1.0876456            | -1.0402680            |  0.8550118            | -0.1308677            | -0.9077599            |  0.2754206            | -0.72754324           | -0.04243444           | -1.0435284            | 0.37192500            |  0.09528258           |  1.00867366           | -0.6293308            |  0.55889783           | -0.13176967           |  0.52259389           | -1.7070397            |  2.7192290            | -0.34168959           |  0.22828921           | -0.09991265           | -0.57794811           | -0.2900903            |  0.2200521            | -0.47605676           | -0.1951741            | -0.05089903           | -0.07024937           |  0.4389557            | -0.2722637            | -0.0987418064         | -0.31595011204        | -0.6649850            |  0.59204523           |  0.48727964           |  0.3470977            |  0.29489569           | -0.283226674          | -0.4221029033         | -0.09672700           | -0.074176035          |  0.57985545           |  0.22562304           | -0.96556143           |  0.26177436           |  1.48999300           | -0.24223471           | -0.840735798          |  1.0517995            | -1.50630962           | -2.633578488          | -1.49749046           | -4.00246257           | -0.82597660           | -3.83926181           | -1.85721178           |  1.62861480           | -0.58109160           | -2.41890422           |  0.82976699           |  0.002919377          |  1.9151847            | -1.63955262           | -0.61220391           |  0.3054356            |  1.62475884           | -0.2848171            |  0.19355465           |  0.15458417           |  0.44065724           |  0.1104779            | -0.9759045            | -0.1275174            | -0.46725093           | ⋯                     |  0.00026890976        | -0.00023635091        |  0.00044341450        |  0.000090364199       |  0.00023843817        | -0.00005206102        |  0.00003903972        | -0.00007387230        | -0.000157449675       | -0.000138641626       | -0.00002854977        |  0.000042287001       |  0.000292705013       |  0.00032473936        |  0.00014567185        |  0.000146448396       | -0.000170107920       | -0.00003448985        |  0.00028558601        |  0.00016365036        | -0.000154234510       | -0.00029234046        | -0.000100922050       | -0.00004458205        |  0.00032625554        |  0.00008389825        | -0.000011824119       | -0.000025850869       |  0.00020615730        | -0.000042683233       | -0.00008624288        |  0.000004802560       | -0.000190323006       | -0.000037667508       | -0.00006097613        | -0.00006945291        |  0.000179219572       | -0.000033429299       |  0.000029288835       | -0.000012324662       |  0.000009052659       | -0.0000123097086      | -0.00001491322074     | -0.0000082646511      |  0.0000148841842      | -0.0000113819402      | -0.0000023825739      |  0.0000158681347      | -0.0000091692953      |  0.0000053559286      | -0.000008791974       |  0.0000073379265      | -0.0000020720397      | -0.0000040715156      | -0.0000020103303      | -0.00000096224209     | -0.0000030342634      | -0.000000119544701    | -0.00000065985314     | -0.000000025465513    | -0.00000001409388     | -0.000000001776530    | -0.000000018341912    |  0.00000000296975142  | -0.000000000037619422 |  3.690191e-15         |  3.265671e-15         |  2.619432e-16         |  1.590199e-15         |  5.377643e-17         | -3.053113e-16         | -1.207801e-15         |  3.963843e-16         |  6.071532e-16         |  2.087631e-16         | -1.208777e-15         |  1.444157e-16         | -4.951009e-16         |  2.328866e-16         |  1.153591e-16         |  2.072995e-16         | -8.101159e-16         | -1.053845e-15         |  4.189357e-16         |  3.964927e-16         |  1.019150e-17         | -6.245005e-17         | -1.231654e-16         | -2.116363e-16         | -7.973223e-16         | -8.187895e-16         | -2.706169e-16         |  1.040834e-15         |  1.106754e-15         |  7.754214e-16         | -2.735225e-15         |  3.851086e-16         |  5.802650e-16         |  2.246467e-16         |  4.163336e-17         |\n",
       "| -12.033145            |  0.8010104            |  5.91825772           | -0.8021252            |  6.7209209            | -3.0465557            |  0.3474168            | -0.9159117            | -0.08654886           | -3.11236549           | -2.0995968            | -0.6278466            |  2.3324190            | -1.9084853            |  0.31186074           |  0.6937267            | -0.7265996            |  0.6662153            | -0.96433985           |  0.17794874           | -1.2926844            | 1.3592125             |  0.94050043           |  1.0356987            |  0.75765557           | -0.11165343           |  0.9808930            | -0.6856368            |  0.7187212            |  2.6065871            | -0.6523321            |  3.3557478            |  0.06768979           | -2.00382142           |  0.1395784            | 1.34276721            | -0.81881894           |  0.46464860           |  1.0663024            | -0.69449900           | -0.09554024           | -0.63869885           | -1.2013752            |  4.5053108            | -0.97609252           |  1.07139450           | -0.42636989           | -2.33135283           | -2.1107092            | -0.9136736            |  1.85379421           |  0.4307178            | -1.15705271           |  1.85382771           | -2.0183727            |  0.2564544            |  2.7786000618         | -1.01659127400        |  0.9466709            | -3.79799335           | -1.08722915           |  0.8517831            | -0.23961512           | -4.379882903          | -4.0756682379         |  0.63464908           | -0.578779053          |  0.37596378           | -0.24206335           |  0.89831718           | -0.47784275           |  1.60817799           |  0.96883887           | -2.344135914          | -2.0385258            |  1.59657448           | -1.024892621          |  0.67927907           | -1.29003539           | -0.06713490           |  0.37567971           | -0.04532559           | -0.06186774           |  1.47559615           |  1.86874890           | -1.11161546           | -1.139544188          | -0.1687775            | -0.19661999           | -0.26339430           |  0.2274362            |  0.82378200           | -0.2819120            | -0.70414098           | -0.49292062           |  0.85686756           |  0.1021721            |  0.4081682            |  0.3101058            | -2.24106470           | ⋯                     |  0.00044419513        | -0.00074078795        |  0.00092987121        | -0.000562698249       | -0.00021681527        | -0.00003561510        | -0.00014112630        |  0.00112216369        | -0.000374821877       | -0.000081822022       | -0.00024421441        |  0.000105159602       | -0.000229677806       |  0.00002160674        | -0.00007430516        | -0.000410353705       |  0.000445659705       | -0.00007056489        |  0.00005032614        |  0.00014796502        |  0.000001207547       | -0.00002898364        |  0.000164446959       | -0.00019000209        | -0.00001824788        | -0.00024797175        | -0.000082749088       |  0.000004824046       | -0.00003158558        |  0.000058858605       | -0.00005023632        | -0.000011620866       |  0.000036379590       |  0.000121204748       | -0.00002102718        | -0.00016704115        | -0.000071873276       |  0.000076239659       |  0.000031202804       |  0.000004253692       |  0.000016198784       | -0.0000319055956      |  0.00004934101374     | -0.0000019985868      | -0.0000003731106      |  0.0000258799493      |  0.0000034907428      | -0.0000006777451      |  0.0000111668269      |  0.0000180551718      | -0.000001393200       | -0.0000100334794      |  0.0000038079393      |  0.0000029277437      |  0.0000030559442      |  0.00000619337988     |  0.0000008551504      | -0.000000763849132    | -0.00000051133374     |  0.000000089617727    |  0.00000003730669     |  0.000000008505719    | -0.000000003250545    |  0.00000006063336218  | -0.000000000069490025 |  4.385923e-15         |  2.186741e-15         |  1.322293e-15         |  2.059984e-16         |  2.015749e-15         |  3.469447e-16         | -6.485697e-16         |  1.035630e-15         |  9.714451e-16         | -1.236451e-15         | -4.767237e-16         |  2.593412e-16         |  1.002562e-15         | -6.973588e-16         |  3.018419e-16         | -1.445892e-15         |  3.478121e-16         |  1.125836e-15         | -1.111090e-15         |  9.875998e-16         |  9.875727e-16         |  7.771561e-16         |  8.708312e-16         | -1.679212e-15         | -1.613293e-16         |  2.463307e-16         |  8.708312e-16         | -6.800116e-16         | -2.671474e-16         | -2.550044e-16         |  2.493665e-15         |  1.621966e-16         |  3.070461e-16         |  1.500536e-16         | -3.538836e-16         |\n",
       "|   3.953238            | -0.7553501            |  0.07550776           | -0.3825126            |  1.4766452            | -1.6298921            |  1.7174488            | -4.0298611            | -0.40460361           | -0.43665316           |  0.2440097            |  0.2832762            | -0.2873760            | -1.2865271            | -0.23819151           |  0.1925911            | -0.2650001            |  0.1374451            |  0.10011591           | -0.01429907           | -0.3395014            | 0.2491561             |  0.61531770           |  0.2487877            |  0.31159783           |  0.08067493           | -0.3952104            |  0.2604924            | -0.5875763            |  0.9711158            | -1.3397643            |  0.3761314            | -0.60218477           |  0.10029039           | -0.1221895            | 0.52527428            | -0.61701828           |  1.31746742           | -0.7106282            |  0.88798656           |  0.02478709           | -0.28432295           | -2.1352903            |  2.3953940            | -0.64475837           |  0.37713267           | -0.13647203           |  0.05847863           | -0.6470205            |  0.5930744            | -0.09556707           | -0.1277416            |  0.29862233           | -0.14688246           |  0.5523969            | -0.1333416            | -0.1453600426         | -0.12000315060        | -0.1757277            |  0.28890859           |  0.02643374           |  0.4319454            | -0.04734958           |  0.129710216          |  0.0879688380         | -0.07238220           |  0.032923933          | -0.10054392           |  0.30562215           | -0.10726572           |  0.01890469           | -0.04216789           |  0.06981232           |  0.009424846          |  0.2619504            | -0.06305589           |  0.063805199          | -0.05111032           | -0.12420986           |  0.02030074           |  0.18899986           |  0.06799199           |  0.01036751           |  0.12958394           |  0.15140289           | -0.13984697           | -0.094395238          | -0.1517878            |  0.07291327           |  0.05902168           | -0.1131900            |  0.02873712           |  0.1480837            | -0.08872274           |  0.14231330           | -0.17876314           |  0.0933493            |  0.1627538            | -0.1073464            |  0.26531088           | ⋯                     |  0.00007268673        | -0.00002526232        |  0.00002946138        | -0.000001093695       |  0.00002245815        |  0.00003275125        |  0.00007480962        | -0.00008288754        |  0.000015026881       |  0.000002148662       | -0.00001467550        | -0.000002551273       | -0.000006765544       | -0.00001146593        | -0.00001545603        |  0.000019017901       |  0.000001531914       |  0.00003791073        |  0.00002099871        |  0.00003610423        |  0.000019038258       | -0.00002105430        | -0.000029101484       | -0.00000369276        |  0.00004472645        |  0.00001039377        | -0.000007141741       | -0.000011286186       |  0.00016894383        |  0.000009640888       |  0.00000432376        |  0.000010776224       |  0.000009985439       | -0.000006281480       |  0.00002474794        | -0.00002411535        | -0.000003408090       |  0.000006816445       | -0.000003382207       |  0.000008250186       |  0.000011152975       | -0.0000019633319      | -0.00000098132426     | -0.0000030072088      |  0.0000026316383      | -0.0000007084585      | -0.0000005777789      |  0.0000013417920      | -0.0000013212179      | -0.0000009570638      |  0.000001737907       | -0.0000002384574      | -0.0000002440817      | -0.0000002976742      | -0.0000002665146      | -0.00000006493436     |  0.0000030462701      | -0.000000058614272    |  0.00000010194118     | -0.000000002557922    |  0.00000003393464     |  0.000000006254541    | -0.000000001882222    |  0.00000000355121572  | -0.000000000001231005 |  1.304078e-15         |  5.749795e-16         |  7.923349e-16         |  9.866240e-17         | -2.283330e-16         |  5.611830e-16         |  3.536667e-16         |  3.382711e-17         |  4.267420e-16         | -1.276377e-16         | -9.118140e-17         | -8.890458e-17         |  2.528902e-16         |  3.265617e-16         |  3.269954e-16         |  1.136244e-16         | -2.099015e-16         |  8.673617e-18         | -3.066124e-16         |  2.918130e-16         |  4.231641e-16         |  2.706169e-16         |  3.122502e-17         | -1.561251e-16         | -2.192257e-16         |  1.353084e-16         |  1.006140e-16         | -4.111295e-16         | -1.179612e-16         |  1.301043e-16         |  7.806256e-18         |  1.032160e-16         |  1.899522e-16         | -5.377643e-17         |  4.640385e-17         |\n",
       "|   3.656154            | -0.7974564            | -0.57477079           | -0.9472111            | -1.0965058            |  0.3920894            | -0.9048917            |  1.8470271            | -0.09110969           |  0.17911276           | -0.5733003            |  0.7197444            |  0.2578194            | -0.6298359            | -0.25124315           | -0.1058878            |  0.4344602            | -0.2442121            | -0.61345942           |  0.42989015           | -0.0115641            | 1.3951497             | -0.09816322           | -0.4294274            | -0.05693979           | -0.18010582           |  1.0699435            | -0.3280171            |  1.0493793            | -0.6449118            |  0.3073919            | -0.2608723            | -0.01802329           | -0.01877759           | -0.3793057            | 0.02956618            | -0.05197705           |  0.04319704           |  0.1026684            |  0.05002387           | -0.26426063           |  0.92868525           | -0.1326559            |  0.2100764            | -0.03591938           |  0.02352515           | -0.04139192           |  0.42965632           | -0.3046969            | -0.0235252            |  0.14717455           |  0.2608551            |  0.17528361           |  0.02291803           | -0.1123356            |  0.1747006            |  0.0008480653         | -0.00005505089        |  0.3925328            |  0.09064741           |  0.26454274           |  0.1647548            |  0.11813716           |  0.003556999          | -0.0004852918         |  0.31689344           |  0.005168369          |  0.13993776           | -0.03097780           |  0.01689668           | -0.09446056           | -0.15013552           |  0.25748763           | -0.071072610          | -0.1141215            |  0.05049726           |  0.008410718          |  0.01069981           |  0.07367072           | -0.08604841           | -0.03532004           | -0.03493258           |  0.19842203           |  0.25499752           |  0.11274992           |  0.17974583           |  0.108026327          |  0.1172723            |  0.21920932           | -0.05882856           |  0.2397785            | -0.41661561           | -0.1830603            |  0.23019052           |  0.03343982           | -0.01989491           | -0.2002837            | -0.4668138            |  0.1228926            |  0.09479190           | ⋯                     |  0.00001417014        |  0.00009928694        |  0.00021344705        | -0.000191204664       | -0.00004849765        |  0.00003688853        | -0.00013908250        |  0.00022695683        |  0.000009961985       | -0.000224143986       |  0.00010322113        |  0.000007030216       | -0.000229935907       | -0.00011025505        | -0.00002918508        | -0.000016992742       | -0.000047192801       | -0.00007594520        | -0.00025119130        | -0.00000425626        | -0.000120108780       |  0.00014217865        |  0.000042982508       | -0.00006511638        | -0.00006221749        | -0.00004351164        | -0.000008805816       |  0.000028069197       | -0.00004827277        | -0.000037936321       | -0.00001822302        |  0.000043163902       | -0.000012421484       | -0.000006949072       |  0.00002175633        |  0.00001676177        | -0.000001543504       |  0.000017015604       |  0.000001099360       | -0.000006492906       | -0.000009714079       | -0.0000005582116      |  0.00000112257815     | -0.0000043799843      |  0.0000045404282      | -0.0000009304800      |  0.0000028015103      | -0.0000026572886      |  0.0000056854563      |  0.0000055631646      | -0.000005079609       |  0.0000020853655      | -0.0000004997963      |  0.0000007102223      |  0.0000008738054      | -0.00000026077850     | -0.0000008686053      |  0.000000271030175    | -0.00000006319114     |  0.000000039728774    | -0.00000002530380     | -0.000000002340400    | -0.000000001017124    |  0.00000006335698253  |  0.000000000015301607 |  9.416296e-16         |  4.121324e-17         |  8.278968e-16         |  3.125755e-16         | -3.653761e-16         |  3.781697e-16         |  5.340780e-16         |  1.379105e-16         | -5.238865e-16         | -2.859854e-16         |  3.833739e-16         |  5.308254e-16         | -2.515349e-16         |  6.505213e-18         |  1.205633e-16         | -6.574602e-16         | -2.515349e-16         | -6.765422e-17         | -5.947933e-16         |  3.731282e-16         |  1.251440e-16         | -3.469447e-17         | -5.204170e-18         |  4.388850e-16         | -1.359590e-16         |  4.891920e-16         |  4.198031e-16         | -6.331741e-16         | -6.938894e-18         |  4.059253e-16         |  7.424616e-16         |  9.974660e-17         |  8.391725e-16         |  2.576064e-16         | -6.418477e-17         |\n",
       "|   2.928207            | -0.7078727            | -0.16419798           | -0.5316229            | -0.3805287            |  2.0788690            | -0.2151733            |  0.5846830            |  2.75586374           |  1.80071144           | -1.4247082            | -0.5172157            |  0.6339617            |  7.4196751            | -0.63601780           |  0.9356754            |  0.6013584            |  0.9918295            | -0.50354239           |  0.99520175           |  0.3092744            | 1.1735940             |  1.19256404           | -2.6595416            | -0.62121355           |  0.21303855           | -0.6235638            | -0.9440171            | -0.5636717            |  0.5284636            | -0.7987798            | -0.6122034            | -0.50796876           |  0.12994556           |  0.2160991            | 0.31717321            | -0.01837364           | -0.05804103           | -0.3963046            | -0.66535538           |  0.16527307           | -0.09035261           |  0.3528757            | -0.6988636            |  0.52878471           |  0.18324391           |  0.44186444           | -0.12973080           | -1.5057084            |  0.3257147            |  1.24060346           |  1.0323115            |  0.36907152           | -0.83343900           | -0.5567517            |  1.2892639            |  0.2019647877         | -0.90092946462        |  0.3201574            |  1.60354201           |  0.04871404           |  1.0757664            |  0.02198580           | -0.107325152          |  0.0335273171         | -0.04963184           | -0.053320732          | -0.28759948           | -0.08214751           |  0.27856542           | -0.10552075           | -0.01204301           | -0.13633268           |  0.072002559          | -0.3604511            | -0.10860673           | -0.001331648          |  0.13166238           |  0.66184294           | -0.10426955           |  0.83522659           |  0.03949810           | -0.04421696           | -0.06440507           |  0.12885341           |  0.07411721           | -0.243532970          | -0.4726369            | -0.11874921           |  0.08969351           | -0.4518617            | -0.31418068           |  0.1609091            | -0.42901612           |  0.22998632           | -0.02202354           |  0.1523907            |  0.2135266            |  0.2184276            | -0.06452738           | ⋯                     |  0.00012618836        | -0.00002622201        |  0.00020861227        |  0.000117673200       | -0.00005508164        | -0.00015653589        | -0.00005762415        |  0.00003624746        | -0.000067974788       |  0.000086405414       | -0.00008272942        |  0.000035696259       |  0.000013071990       | -0.00007813766        | -0.00020659766        |  0.000003557766       | -0.000097722439       |  0.00005319926        | -0.00005554185        |  0.00018973926        |  0.000085780045       |  0.00002456651        |  0.000006134986       |  0.00002819096        | -0.00001259384        |  0.00007865118        |  0.000025598741       | -0.000028689795       | -0.00012032103        |  0.000013605869       | -0.00001261991        |  0.000002440783       | -0.000019525839       | -0.000039320476       | -0.00001033976        | -0.00006349851        | -0.000003852013       | -0.000012712826       |  0.000006976526       |  0.000009164287       |  0.000009022610       | -0.0000019587192      |  0.00000383914974     | -0.0000009308045      | -0.0000108854528      | -0.0000110345570      | -0.0000028462865      |  0.0000014041117      | -0.0000000978122      |  0.0000027393246      | -0.000005414870       | -0.0000002756832      |  0.0000001425050      | -0.0000008234365      | -0.0000001846125      | -0.00000100613832     | -0.0000002580668      |  0.000000162210657    | -0.00000031375861     |  0.000000010720465    | -0.00000001084168     |  0.000000004231045    |  0.000000001274976    |  0.00000000009874152  | -0.000000000010416432 | -1.834470e-15         | -1.513072e-15         | -2.289618e-15         | -4.029979e-16         |  6.865168e-16         | -1.609823e-15         | -1.734940e-15         |  7.892992e-17         |  4.267420e-16         |  1.117623e-15         | -7.707593e-16         | -1.054278e-15         |  3.122502e-17         | -3.764350e-16         | -6.435824e-16         |  8.803722e-16         |  7.806256e-18         | -1.130172e-15         |  1.980837e-15         | -6.778432e-16         | -1.074770e-15         | -5.967449e-16         |  4.024558e-16         | -3.469447e-18         | -1.095044e-16         | -2.983724e-16         | -9.228729e-16         |  2.335805e-15         |  3.989864e-16         | -5.464379e-16         | -1.605053e-15         | -5.464379e-17         | -1.091575e-15         | -7.459311e-17         |  5.898060e-17         |\n",
       "|   0.348804            |  1.1407803            |  0.35756917           | -0.4862901            | -1.4250365            |  0.6475994            | -1.6010238            |  4.3241387            | -0.62937256           |  0.02018951           | -0.2935760            |  0.5250914            |  0.2539821            | -1.1209591            | -0.02852781           |  0.7791165            |  0.7753181            |  0.9819070            | -0.02620283           |  2.14945664           |  0.8261750            | 1.5067372             |  0.80860111           | -3.6871478            | -0.94840440           |  1.34227003           | -2.8392791            | -0.8674966            | -2.7708534            |  1.8813789            | -2.0502739            |  0.4767891            | -0.36922803           | -0.35543122           |  0.3972176            | 0.57945697            |  0.65360984           |  0.54763126           | -0.4861147            | -0.89531494           |  0.59060274           | -1.47358741           | -0.6018560            | -0.4233659            | -0.38703284           | -0.00410622           |  0.39393134           | -0.42496160           |  0.0169909            |  0.3533005            |  0.16784462           |  0.3942612            |  0.40702036           | -0.03934476           |  0.1610875            |  0.5138605            | -0.0110424540         |  0.34082462660        |  0.7337331            |  0.38832196           |  0.61077282           | -0.0483728            |  0.25387821           |  0.110714962          |  0.2905777098         | -0.23918677           |  0.030613389          |  0.02092912           | -0.31007472           |  0.26379014           | -0.84278712           |  0.27334348           | -0.05874301           |  0.189322078          | -0.9537352            |  0.07385377           | -0.035210027          |  0.15873521           |  0.11518808           | -0.03936922           | -0.64404518           |  0.08362562           | -0.03677736           |  0.11633831           | -0.01680048           |  1.06053694           |  1.075294976          |  0.5239674            |  1.24529342           | -0.21088507           |  1.3454848            | -0.48823179           | -0.2435853            |  0.52057550           |  0.44870158           | -0.03702755           | -0.5859410            | -0.6515117            | -0.7020151            |  0.20895884           | ⋯                     | -0.00019526285        | -0.00036532260        | -0.00019825585        |  0.000241020470       |  0.00030682360        | -0.00021322339        | -0.00040434396        |  0.00011546415        |  0.000102580968       |  0.000086160082       |  0.00017318810        | -0.000015508078       |  0.000208551318       | -0.00009025882        | -0.00009658265        |  0.000027852839       | -0.000027150518       |  0.00005686467        |  0.00014953447        |  0.00014527889        | -0.000118125990       |  0.00017690465        | -0.000211934392       |  0.00003980669        |  0.00002599536        | -0.00002465778        | -0.000035602943       |  0.000010641736       |  0.00015927225        |  0.000137947078       |  0.00007174451        |  0.000079625951       | -0.000003228683       | -0.000046981541       | -0.00025414140        |  0.00004961733        | -0.000022943507       |  0.000083723936       |  0.000004720440       |  0.000011585971       |  0.000006122661       |  0.0000073937950      | -0.00000003469984     |  0.0000069903636      |  0.0000079538488      | -0.0000124852825      | -0.0000096228451      |  0.0000038804080      | -0.0000023512903      | -0.0000034652946      | -0.000005708358       |  0.0000003517623      | -0.0000015992896      | -0.0000004123118      |  0.0000001381713      |  0.00000245669487     | -0.0000005694462      |  0.000000007303838    | -0.00000044703974     | -0.000000016327376    | -0.00000003839811     | -0.000000011029066    |  0.000000001113933    | -0.00000003579569083  | -0.000000000035528804 |  1.129739e-16         | -5.594212e-16         |  2.101184e-16         |  6.614717e-16         |  5.796145e-16         |  1.621966e-16         |  3.647256e-16         | -3.400058e-16         |  5.368969e-16         | -3.264262e-16         | -4.000706e-17         |  6.982262e-17         |  7.182839e-17         |  1.691355e-17         |  4.536302e-16         | -8.586881e-16         | -1.318390e-16         | -6.071532e-17         |  2.808084e-16         | -2.057274e-16         |  1.331942e-16         | -5.898060e-17         |  8.795048e-16         | -5.308254e-16         |  1.465841e-16         |  4.163336e-16         |  5.169476e-16         | -5.212844e-16         | -3.538836e-16         |  1.734723e-17         |  5.655199e-16         | -3.209238e-17         |  1.105886e-16         |  1.118897e-16         | -1.726050e-16         |\n",
       "\n"
      ],
      "text/plain": [
       "     PC1        PC2        PC3         PC4        PC5        PC6       \n",
       "[1,]   3.437026 -0.2214612  0.42173751 -0.6326742  1.5547346 -0.5654384\n",
       "[2,] -12.033145  0.8010104  5.91825772 -0.8021252  6.7209209 -3.0465557\n",
       "[3,]   3.953238 -0.7553501  0.07550776 -0.3825126  1.4766452 -1.6298921\n",
       "[4,]   3.656154 -0.7974564 -0.57477079 -0.9472111 -1.0965058  0.3920894\n",
       "[5,]   2.928207 -0.7078727 -0.16419798 -0.5316229 -0.3805287  2.0788690\n",
       "[6,]   0.348804  1.1407803  0.35756917 -0.4862901 -1.4250365  0.6475994\n",
       "     PC7        PC8        PC9         PC10        PC11       PC12      \n",
       "[1,]  2.0475876 -4.7934517  2.57730773  1.08458798 -1.0862641 -0.7297127\n",
       "[2,]  0.3474168 -0.9159117 -0.08654886 -3.11236549 -2.0995968 -0.6278466\n",
       "[3,]  1.7174488 -4.0298611 -0.40460361 -0.43665316  0.2440097  0.2832762\n",
       "[4,] -0.9048917  1.8470271 -0.09110969  0.17911276 -0.5733003  0.7197444\n",
       "[5,] -0.2151733  0.5846830  2.75586374  1.80071144 -1.4247082 -0.5172157\n",
       "[6,] -1.6010238  4.3241387 -0.62937256  0.02018951 -0.2935760  0.5250914\n",
       "     PC13       PC14       PC15        PC16       PC17       PC18      \n",
       "[1,]  0.2969840  6.8506191 -1.40348828  1.0990780  0.1814650  0.9899768\n",
       "[2,]  2.3324190 -1.9084853  0.31186074  0.6937267 -0.7265996  0.6662153\n",
       "[3,] -0.2873760 -1.2865271 -0.23819151  0.1925911 -0.2650001  0.1374451\n",
       "[4,]  0.2578194 -0.6298359 -0.25124315 -0.1058878  0.4344602 -0.2442121\n",
       "[5,]  0.6339617  7.4196751 -0.63601780  0.9356754  0.6013584  0.9918295\n",
       "[6,]  0.2539821 -1.1209591 -0.02852781  0.7791165  0.7753181  0.9819070\n",
       "     PC19        PC20        PC21       PC22      PC23        PC24      \n",
       "[1,] -0.79304191  0.19916007 -0.3167686 1.0530731  1.67811387 -0.8667728\n",
       "[2,] -0.96433985  0.17794874 -1.2926844 1.3592125  0.94050043  1.0356987\n",
       "[3,]  0.10011591 -0.01429907 -0.3395014 0.2491561  0.61531770  0.2487877\n",
       "[4,] -0.61345942  0.42989015 -0.0115641 1.3951497 -0.09816322 -0.4294274\n",
       "[5,] -0.50354239  0.99520175  0.3092744 1.1735940  1.19256404 -2.6595416\n",
       "[6,] -0.02620283  2.14945664  0.8261750 1.5067372  0.80860111 -3.6871478\n",
       "     PC25        PC26        PC27       PC28       PC29       PC30      \n",
       "[1,] -0.37924724 -1.16145300  1.0876456 -1.0402680  0.8550118 -0.1308677\n",
       "[2,]  0.75765557 -0.11165343  0.9808930 -0.6856368  0.7187212  2.6065871\n",
       "[3,]  0.31159783  0.08067493 -0.3952104  0.2604924 -0.5875763  0.9711158\n",
       "[4,] -0.05693979 -0.18010582  1.0699435 -0.3280171  1.0493793 -0.6449118\n",
       "[5,] -0.62121355  0.21303855 -0.6235638 -0.9440171 -0.5636717  0.5284636\n",
       "[6,] -0.94840440  1.34227003 -2.8392791 -0.8674966 -2.7708534  1.8813789\n",
       "     PC31       PC32       PC33        PC34        PC35       PC36      \n",
       "[1,] -0.9077599  0.2754206 -0.72754324 -0.04243444 -1.0435284 0.37192500\n",
       "[2,] -0.6523321  3.3557478  0.06768979 -2.00382142  0.1395784 1.34276721\n",
       "[3,] -1.3397643  0.3761314 -0.60218477  0.10029039 -0.1221895 0.52527428\n",
       "[4,]  0.3073919 -0.2608723 -0.01802329 -0.01877759 -0.3793057 0.02956618\n",
       "[5,] -0.7987798 -0.6122034 -0.50796876  0.12994556  0.2160991 0.31717321\n",
       "[6,] -2.0502739  0.4767891 -0.36922803 -0.35543122  0.3972176 0.57945697\n",
       "     PC37        PC38        PC39       PC40        PC41        PC42       \n",
       "[1,]  0.09528258  1.00867366 -0.6293308  0.55889783 -0.13176967  0.52259389\n",
       "[2,] -0.81881894  0.46464860  1.0663024 -0.69449900 -0.09554024 -0.63869885\n",
       "[3,] -0.61701828  1.31746742 -0.7106282  0.88798656  0.02478709 -0.28432295\n",
       "[4,] -0.05197705  0.04319704  0.1026684  0.05002387 -0.26426063  0.92868525\n",
       "[5,] -0.01837364 -0.05804103 -0.3963046 -0.66535538  0.16527307 -0.09035261\n",
       "[6,]  0.65360984  0.54763126 -0.4861147 -0.89531494  0.59060274 -1.47358741\n",
       "     PC43       PC44       PC45        PC46        PC47        PC48       \n",
       "[1,] -1.7070397  2.7192290 -0.34168959  0.22828921 -0.09991265 -0.57794811\n",
       "[2,] -1.2013752  4.5053108 -0.97609252  1.07139450 -0.42636989 -2.33135283\n",
       "[3,] -2.1352903  2.3953940 -0.64475837  0.37713267 -0.13647203  0.05847863\n",
       "[4,] -0.1326559  0.2100764 -0.03591938  0.02352515 -0.04139192  0.42965632\n",
       "[5,]  0.3528757 -0.6988636  0.52878471  0.18324391  0.44186444 -0.12973080\n",
       "[6,] -0.6018560 -0.4233659 -0.38703284 -0.00410622  0.39393134 -0.42496160\n",
       "     PC49       PC50       PC51        PC52       PC53        PC54       \n",
       "[1,] -0.2900903  0.2200521 -0.47605676 -0.1951741 -0.05089903 -0.07024937\n",
       "[2,] -2.1107092 -0.9136736  1.85379421  0.4307178 -1.15705271  1.85382771\n",
       "[3,] -0.6470205  0.5930744 -0.09556707 -0.1277416  0.29862233 -0.14688246\n",
       "[4,] -0.3046969 -0.0235252  0.14717455  0.2608551  0.17528361  0.02291803\n",
       "[5,] -1.5057084  0.3257147  1.24060346  1.0323115  0.36907152 -0.83343900\n",
       "[6,]  0.0169909  0.3533005  0.16784462  0.3942612  0.40702036 -0.03934476\n",
       "     PC55       PC56       PC57          PC58           PC59       PC60       \n",
       "[1,]  0.4389557 -0.2722637 -0.0987418064 -0.31595011204 -0.6649850  0.59204523\n",
       "[2,] -2.0183727  0.2564544  2.7786000618 -1.01659127400  0.9466709 -3.79799335\n",
       "[3,]  0.5523969 -0.1333416 -0.1453600426 -0.12000315060 -0.1757277  0.28890859\n",
       "[4,] -0.1123356  0.1747006  0.0008480653 -0.00005505089  0.3925328  0.09064741\n",
       "[5,] -0.5567517  1.2892639  0.2019647877 -0.90092946462  0.3201574  1.60354201\n",
       "[6,]  0.1610875  0.5138605 -0.0110424540  0.34082462660  0.7337331  0.38832196\n",
       "     PC61        PC62       PC63        PC64         PC65          PC66       \n",
       "[1,]  0.48727964  0.3470977  0.29489569 -0.283226674 -0.4221029033 -0.09672700\n",
       "[2,] -1.08722915  0.8517831 -0.23961512 -4.379882903 -4.0756682379  0.63464908\n",
       "[3,]  0.02643374  0.4319454 -0.04734958  0.129710216  0.0879688380 -0.07238220\n",
       "[4,]  0.26454274  0.1647548  0.11813716  0.003556999 -0.0004852918  0.31689344\n",
       "[5,]  0.04871404  1.0757664  0.02198580 -0.107325152  0.0335273171 -0.04963184\n",
       "[6,]  0.61077282 -0.0483728  0.25387821  0.110714962  0.2905777098 -0.23918677\n",
       "     PC67         PC68        PC69        PC70        PC71        PC72       \n",
       "[1,] -0.074176035  0.57985545  0.22562304 -0.96556143  0.26177436  1.48999300\n",
       "[2,] -0.578779053  0.37596378 -0.24206335  0.89831718 -0.47784275  1.60817799\n",
       "[3,]  0.032923933 -0.10054392  0.30562215 -0.10726572  0.01890469 -0.04216789\n",
       "[4,]  0.005168369  0.13993776 -0.03097780  0.01689668 -0.09446056 -0.15013552\n",
       "[5,] -0.053320732 -0.28759948 -0.08214751  0.27856542 -0.10552075 -0.01204301\n",
       "[6,]  0.030613389  0.02092912 -0.31007472  0.26379014 -0.84278712  0.27334348\n",
       "     PC73        PC74         PC75       PC76        PC77         PC78       \n",
       "[1,] -0.24223471 -0.840735798  1.0517995 -1.50630962 -2.633578488 -1.49749046\n",
       "[2,]  0.96883887 -2.344135914 -2.0385258  1.59657448 -1.024892621  0.67927907\n",
       "[3,]  0.06981232  0.009424846  0.2619504 -0.06305589  0.063805199 -0.05111032\n",
       "[4,]  0.25748763 -0.071072610 -0.1141215  0.05049726  0.008410718  0.01069981\n",
       "[5,] -0.13633268  0.072002559 -0.3604511 -0.10860673 -0.001331648  0.13166238\n",
       "[6,] -0.05874301  0.189322078 -0.9537352  0.07385377 -0.035210027  0.15873521\n",
       "     PC79        PC80        PC81        PC82        PC83        PC84       \n",
       "[1,] -4.00246257 -0.82597660 -3.83926181 -1.85721178  1.62861480 -0.58109160\n",
       "[2,] -1.29003539 -0.06713490  0.37567971 -0.04532559 -0.06186774  1.47559615\n",
       "[3,] -0.12420986  0.02030074  0.18899986  0.06799199  0.01036751  0.12958394\n",
       "[4,]  0.07367072 -0.08604841 -0.03532004 -0.03493258  0.19842203  0.25499752\n",
       "[5,]  0.66184294 -0.10426955  0.83522659  0.03949810 -0.04421696 -0.06440507\n",
       "[6,]  0.11518808 -0.03936922 -0.64404518  0.08362562 -0.03677736  0.11633831\n",
       "     PC85        PC86        PC87         PC88       PC89        PC90       \n",
       "[1,] -2.41890422  0.82976699  0.002919377  1.9151847 -1.63955262 -0.61220391\n",
       "[2,]  1.86874890 -1.11161546 -1.139544188 -0.1687775 -0.19661999 -0.26339430\n",
       "[3,]  0.15140289 -0.13984697 -0.094395238 -0.1517878  0.07291327  0.05902168\n",
       "[4,]  0.11274992  0.17974583  0.108026327  0.1172723  0.21920932 -0.05882856\n",
       "[5,]  0.12885341  0.07411721 -0.243532970 -0.4726369 -0.11874921  0.08969351\n",
       "[6,] -0.01680048  1.06053694  1.075294976  0.5239674  1.24529342 -0.21088507\n",
       "     PC91       PC92        PC93       PC94        PC95        PC96       \n",
       "[1,]  0.3054356  1.62475884 -0.2848171  0.19355465  0.15458417  0.44065724\n",
       "[2,]  0.2274362  0.82378200 -0.2819120 -0.70414098 -0.49292062  0.85686756\n",
       "[3,] -0.1131900  0.02873712  0.1480837 -0.08872274  0.14231330 -0.17876314\n",
       "[4,]  0.2397785 -0.41661561 -0.1830603  0.23019052  0.03343982 -0.01989491\n",
       "[5,] -0.4518617 -0.31418068  0.1609091 -0.42901612  0.22998632 -0.02202354\n",
       "[6,]  1.3454848 -0.48823179 -0.2435853  0.52057550  0.44870158 -0.03702755\n",
       "     PC97       PC98       PC99       PC100       ⋯ PC638         \n",
       "[1,]  0.1104779 -0.9759045 -0.1275174 -0.46725093 ⋯  0.00026890976\n",
       "[2,]  0.1021721  0.4081682  0.3101058 -2.24106470 ⋯  0.00044419513\n",
       "[3,]  0.0933493  0.1627538 -0.1073464  0.26531088 ⋯  0.00007268673\n",
       "[4,] -0.2002837 -0.4668138  0.1228926  0.09479190 ⋯  0.00001417014\n",
       "[5,]  0.1523907  0.2135266  0.2184276 -0.06452738 ⋯  0.00012618836\n",
       "[6,] -0.5859410 -0.6515117 -0.7020151  0.20895884 ⋯ -0.00019526285\n",
       "     PC639          PC640          PC641           PC642         \n",
       "[1,] -0.00023635091  0.00044341450  0.000090364199  0.00023843817\n",
       "[2,] -0.00074078795  0.00092987121 -0.000562698249 -0.00021681527\n",
       "[3,] -0.00002526232  0.00002946138 -0.000001093695  0.00002245815\n",
       "[4,]  0.00009928694  0.00021344705 -0.000191204664 -0.00004849765\n",
       "[5,] -0.00002622201  0.00020861227  0.000117673200 -0.00005508164\n",
       "[6,] -0.00036532260 -0.00019825585  0.000241020470  0.00030682360\n",
       "     PC643          PC644          PC645          PC646          \n",
       "[1,] -0.00005206102  0.00003903972 -0.00007387230 -0.000157449675\n",
       "[2,] -0.00003561510 -0.00014112630  0.00112216369 -0.000374821877\n",
       "[3,]  0.00003275125  0.00007480962 -0.00008288754  0.000015026881\n",
       "[4,]  0.00003688853 -0.00013908250  0.00022695683  0.000009961985\n",
       "[5,] -0.00015653589 -0.00005762415  0.00003624746 -0.000067974788\n",
       "[6,] -0.00021322339 -0.00040434396  0.00011546415  0.000102580968\n",
       "     PC647           PC648          PC649           PC650          \n",
       "[1,] -0.000138641626 -0.00002854977  0.000042287001  0.000292705013\n",
       "[2,] -0.000081822022 -0.00024421441  0.000105159602 -0.000229677806\n",
       "[3,]  0.000002148662 -0.00001467550 -0.000002551273 -0.000006765544\n",
       "[4,] -0.000224143986  0.00010322113  0.000007030216 -0.000229935907\n",
       "[5,]  0.000086405414 -0.00008272942  0.000035696259  0.000013071990\n",
       "[6,]  0.000086160082  0.00017318810 -0.000015508078  0.000208551318\n",
       "     PC651          PC652          PC653           PC654          \n",
       "[1,]  0.00032473936  0.00014567185  0.000146448396 -0.000170107920\n",
       "[2,]  0.00002160674 -0.00007430516 -0.000410353705  0.000445659705\n",
       "[3,] -0.00001146593 -0.00001545603  0.000019017901  0.000001531914\n",
       "[4,] -0.00011025505 -0.00002918508 -0.000016992742 -0.000047192801\n",
       "[5,] -0.00007813766 -0.00020659766  0.000003557766 -0.000097722439\n",
       "[6,] -0.00009025882 -0.00009658265  0.000027852839 -0.000027150518\n",
       "     PC655          PC656          PC657          PC658          \n",
       "[1,] -0.00003448985  0.00028558601  0.00016365036 -0.000154234510\n",
       "[2,] -0.00007056489  0.00005032614  0.00014796502  0.000001207547\n",
       "[3,]  0.00003791073  0.00002099871  0.00003610423  0.000019038258\n",
       "[4,] -0.00007594520 -0.00025119130 -0.00000425626 -0.000120108780\n",
       "[5,]  0.00005319926 -0.00005554185  0.00018973926  0.000085780045\n",
       "[6,]  0.00005686467  0.00014953447  0.00014527889 -0.000118125990\n",
       "     PC659          PC660           PC661          PC662         \n",
       "[1,] -0.00029234046 -0.000100922050 -0.00004458205  0.00032625554\n",
       "[2,] -0.00002898364  0.000164446959 -0.00019000209 -0.00001824788\n",
       "[3,] -0.00002105430 -0.000029101484 -0.00000369276  0.00004472645\n",
       "[4,]  0.00014217865  0.000042982508 -0.00006511638 -0.00006221749\n",
       "[5,]  0.00002456651  0.000006134986  0.00002819096 -0.00001259384\n",
       "[6,]  0.00017690465 -0.000211934392  0.00003980669  0.00002599536\n",
       "     PC663          PC664           PC665           PC666         \n",
       "[1,]  0.00008389825 -0.000011824119 -0.000025850869  0.00020615730\n",
       "[2,] -0.00024797175 -0.000082749088  0.000004824046 -0.00003158558\n",
       "[3,]  0.00001039377 -0.000007141741 -0.000011286186  0.00016894383\n",
       "[4,] -0.00004351164 -0.000008805816  0.000028069197 -0.00004827277\n",
       "[5,]  0.00007865118  0.000025598741 -0.000028689795 -0.00012032103\n",
       "[6,] -0.00002465778 -0.000035602943  0.000010641736  0.00015927225\n",
       "     PC667           PC668          PC669           PC670          \n",
       "[1,] -0.000042683233 -0.00008624288  0.000004802560 -0.000190323006\n",
       "[2,]  0.000058858605 -0.00005023632 -0.000011620866  0.000036379590\n",
       "[3,]  0.000009640888  0.00000432376  0.000010776224  0.000009985439\n",
       "[4,] -0.000037936321 -0.00001822302  0.000043163902 -0.000012421484\n",
       "[5,]  0.000013605869 -0.00001261991  0.000002440783 -0.000019525839\n",
       "[6,]  0.000137947078  0.00007174451  0.000079625951 -0.000003228683\n",
       "     PC671           PC672          PC673          PC674          \n",
       "[1,] -0.000037667508 -0.00006097613 -0.00006945291  0.000179219572\n",
       "[2,]  0.000121204748 -0.00002102718 -0.00016704115 -0.000071873276\n",
       "[3,] -0.000006281480  0.00002474794 -0.00002411535 -0.000003408090\n",
       "[4,] -0.000006949072  0.00002175633  0.00001676177 -0.000001543504\n",
       "[5,] -0.000039320476 -0.00001033976 -0.00006349851 -0.000003852013\n",
       "[6,] -0.000046981541 -0.00025414140  0.00004961733 -0.000022943507\n",
       "     PC675           PC676           PC677           PC678          \n",
       "[1,] -0.000033429299  0.000029288835 -0.000012324662  0.000009052659\n",
       "[2,]  0.000076239659  0.000031202804  0.000004253692  0.000016198784\n",
       "[3,]  0.000006816445 -0.000003382207  0.000008250186  0.000011152975\n",
       "[4,]  0.000017015604  0.000001099360 -0.000006492906 -0.000009714079\n",
       "[5,] -0.000012712826  0.000006976526  0.000009164287  0.000009022610\n",
       "[6,]  0.000083723936  0.000004720440  0.000011585971  0.000006122661\n",
       "     PC679            PC680             PC681            PC682           \n",
       "[1,] -0.0000123097086 -0.00001491322074 -0.0000082646511  0.0000148841842\n",
       "[2,] -0.0000319055956  0.00004934101374 -0.0000019985868 -0.0000003731106\n",
       "[3,] -0.0000019633319 -0.00000098132426 -0.0000030072088  0.0000026316383\n",
       "[4,] -0.0000005582116  0.00000112257815 -0.0000043799843  0.0000045404282\n",
       "[5,] -0.0000019587192  0.00000383914974 -0.0000009308045 -0.0000108854528\n",
       "[6,]  0.0000073937950 -0.00000003469984  0.0000069903636  0.0000079538488\n",
       "     PC683            PC684            PC685            PC686           \n",
       "[1,] -0.0000113819402 -0.0000023825739  0.0000158681347 -0.0000091692953\n",
       "[2,]  0.0000258799493  0.0000034907428 -0.0000006777451  0.0000111668269\n",
       "[3,] -0.0000007084585 -0.0000005777789  0.0000013417920 -0.0000013212179\n",
       "[4,] -0.0000009304800  0.0000028015103 -0.0000026572886  0.0000056854563\n",
       "[5,] -0.0000110345570 -0.0000028462865  0.0000014041117 -0.0000000978122\n",
       "[6,] -0.0000124852825 -0.0000096228451  0.0000038804080 -0.0000023512903\n",
       "     PC687            PC688           PC689            PC690           \n",
       "[1,]  0.0000053559286 -0.000008791974  0.0000073379265 -0.0000020720397\n",
       "[2,]  0.0000180551718 -0.000001393200 -0.0000100334794  0.0000038079393\n",
       "[3,] -0.0000009570638  0.000001737907 -0.0000002384574 -0.0000002440817\n",
       "[4,]  0.0000055631646 -0.000005079609  0.0000020853655 -0.0000004997963\n",
       "[5,]  0.0000027393246 -0.000005414870 -0.0000002756832  0.0000001425050\n",
       "[6,] -0.0000034652946 -0.000005708358  0.0000003517623 -0.0000015992896\n",
       "     PC691            PC692            PC693             PC694           \n",
       "[1,] -0.0000040715156 -0.0000020103303 -0.00000096224209 -0.0000030342634\n",
       "[2,]  0.0000029277437  0.0000030559442  0.00000619337988  0.0000008551504\n",
       "[3,] -0.0000002976742 -0.0000002665146 -0.00000006493436  0.0000030462701\n",
       "[4,]  0.0000007102223  0.0000008738054 -0.00000026077850 -0.0000008686053\n",
       "[5,] -0.0000008234365 -0.0000001846125 -0.00000100613832 -0.0000002580668\n",
       "[6,] -0.0000004123118  0.0000001381713  0.00000245669487 -0.0000005694462\n",
       "     PC695              PC696             PC697              PC698            \n",
       "[1,] -0.000000119544701 -0.00000065985314 -0.000000025465513 -0.00000001409388\n",
       "[2,] -0.000000763849132 -0.00000051133374  0.000000089617727  0.00000003730669\n",
       "[3,] -0.000000058614272  0.00000010194118 -0.000000002557922  0.00000003393464\n",
       "[4,]  0.000000271030175 -0.00000006319114  0.000000039728774 -0.00000002530380\n",
       "[5,]  0.000000162210657 -0.00000031375861  0.000000010720465 -0.00000001084168\n",
       "[6,]  0.000000007303838 -0.00000044703974 -0.000000016327376 -0.00000003839811\n",
       "     PC699              PC700              PC701               \n",
       "[1,] -0.000000001776530 -0.000000018341912  0.00000000296975142\n",
       "[2,]  0.000000008505719 -0.000000003250545  0.00000006063336218\n",
       "[3,]  0.000000006254541 -0.000000001882222  0.00000000355121572\n",
       "[4,] -0.000000002340400 -0.000000001017124  0.00000006335698253\n",
       "[5,]  0.000000004231045  0.000000001274976  0.00000000009874152\n",
       "[6,] -0.000000011029066  0.000000001113933 -0.00000003579569083\n",
       "     PC702                 PC703         PC704         PC705        \n",
       "[1,] -0.000000000037619422  3.690191e-15  3.265671e-15  2.619432e-16\n",
       "[2,] -0.000000000069490025  4.385923e-15  2.186741e-15  1.322293e-15\n",
       "[3,] -0.000000000001231005  1.304078e-15  5.749795e-16  7.923349e-16\n",
       "[4,]  0.000000000015301607  9.416296e-16  4.121324e-17  8.278968e-16\n",
       "[5,] -0.000000000010416432 -1.834470e-15 -1.513072e-15 -2.289618e-15\n",
       "[6,] -0.000000000035528804  1.129739e-16 -5.594212e-16  2.101184e-16\n",
       "     PC706         PC707         PC708         PC709         PC710        \n",
       "[1,]  1.590199e-15  5.377643e-17 -3.053113e-16 -1.207801e-15  3.963843e-16\n",
       "[2,]  2.059984e-16  2.015749e-15  3.469447e-16 -6.485697e-16  1.035630e-15\n",
       "[3,]  9.866240e-17 -2.283330e-16  5.611830e-16  3.536667e-16  3.382711e-17\n",
       "[4,]  3.125755e-16 -3.653761e-16  3.781697e-16  5.340780e-16  1.379105e-16\n",
       "[5,] -4.029979e-16  6.865168e-16 -1.609823e-15 -1.734940e-15  7.892992e-17\n",
       "[6,]  6.614717e-16  5.796145e-16  1.621966e-16  3.647256e-16 -3.400058e-16\n",
       "     PC711         PC712         PC713         PC714         PC715        \n",
       "[1,]  6.071532e-16  2.087631e-16 -1.208777e-15  1.444157e-16 -4.951009e-16\n",
       "[2,]  9.714451e-16 -1.236451e-15 -4.767237e-16  2.593412e-16  1.002562e-15\n",
       "[3,]  4.267420e-16 -1.276377e-16 -9.118140e-17 -8.890458e-17  2.528902e-16\n",
       "[4,] -5.238865e-16 -2.859854e-16  3.833739e-16  5.308254e-16 -2.515349e-16\n",
       "[5,]  4.267420e-16  1.117623e-15 -7.707593e-16 -1.054278e-15  3.122502e-17\n",
       "[6,]  5.368969e-16 -3.264262e-16 -4.000706e-17  6.982262e-17  7.182839e-17\n",
       "     PC716         PC717         PC718         PC719         PC720        \n",
       "[1,]  2.328866e-16  1.153591e-16  2.072995e-16 -8.101159e-16 -1.053845e-15\n",
       "[2,] -6.973588e-16  3.018419e-16 -1.445892e-15  3.478121e-16  1.125836e-15\n",
       "[3,]  3.265617e-16  3.269954e-16  1.136244e-16 -2.099015e-16  8.673617e-18\n",
       "[4,]  6.505213e-18  1.205633e-16 -6.574602e-16 -2.515349e-16 -6.765422e-17\n",
       "[5,] -3.764350e-16 -6.435824e-16  8.803722e-16  7.806256e-18 -1.130172e-15\n",
       "[6,]  1.691355e-17  4.536302e-16 -8.586881e-16 -1.318390e-16 -6.071532e-17\n",
       "     PC721         PC722         PC723         PC724         PC725        \n",
       "[1,]  4.189357e-16  3.964927e-16  1.019150e-17 -6.245005e-17 -1.231654e-16\n",
       "[2,] -1.111090e-15  9.875998e-16  9.875727e-16  7.771561e-16  8.708312e-16\n",
       "[3,] -3.066124e-16  2.918130e-16  4.231641e-16  2.706169e-16  3.122502e-17\n",
       "[4,] -5.947933e-16  3.731282e-16  1.251440e-16 -3.469447e-17 -5.204170e-18\n",
       "[5,]  1.980837e-15 -6.778432e-16 -1.074770e-15 -5.967449e-16  4.024558e-16\n",
       "[6,]  2.808084e-16 -2.057274e-16  1.331942e-16 -5.898060e-17  8.795048e-16\n",
       "     PC726         PC727         PC728         PC729         PC730        \n",
       "[1,] -2.116363e-16 -7.973223e-16 -8.187895e-16 -2.706169e-16  1.040834e-15\n",
       "[2,] -1.679212e-15 -1.613293e-16  2.463307e-16  8.708312e-16 -6.800116e-16\n",
       "[3,] -1.561251e-16 -2.192257e-16  1.353084e-16  1.006140e-16 -4.111295e-16\n",
       "[4,]  4.388850e-16 -1.359590e-16  4.891920e-16  4.198031e-16 -6.331741e-16\n",
       "[5,] -3.469447e-18 -1.095044e-16 -2.983724e-16 -9.228729e-16  2.335805e-15\n",
       "[6,] -5.308254e-16  1.465841e-16  4.163336e-16  5.169476e-16 -5.212844e-16\n",
       "     PC731         PC732         PC733         PC734         PC735        \n",
       "[1,]  1.106754e-15  7.754214e-16 -2.735225e-15  3.851086e-16  5.802650e-16\n",
       "[2,] -2.671474e-16 -2.550044e-16  2.493665e-15  1.621966e-16  3.070461e-16\n",
       "[3,] -1.179612e-16  1.301043e-16  7.806256e-18  1.032160e-16  1.899522e-16\n",
       "[4,] -6.938894e-18  4.059253e-16  7.424616e-16  9.974660e-17  8.391725e-16\n",
       "[5,]  3.989864e-16 -5.464379e-16 -1.605053e-15 -5.464379e-17 -1.091575e-15\n",
       "[6,] -3.538836e-16  1.734723e-17  5.655199e-16 -3.209238e-17  1.105886e-16\n",
       "     PC736         PC737        \n",
       "[1,]  2.246467e-16  4.163336e-17\n",
       "[2,]  1.500536e-16 -3.538836e-16\n",
       "[3,] -5.377643e-17  4.640385e-17\n",
       "[4,]  2.576064e-16 -6.418477e-17\n",
       "[5,] -7.459311e-17  5.898060e-17\n",
       "[6,]  1.118897e-16 -1.726050e-16"
      ]
     },
     "metadata": {},
     "output_type": "display_data"
    }
   ],
   "source": [
    "# Performing principal component analysis.\n",
    "pc = prcomp(data.filt, scale=TRUE)\n",
    "princ = pc$x\n",
    "head(princ)\n"
   ]
  },
  {
   "cell_type": "markdown",
   "metadata": {},
   "source": [
    "### Cluster Analysis"
   ]
  },
  {
   "cell_type": "markdown",
   "metadata": {},
   "source": [
    "In the cell below, I'll perform cluster analysis, and assign each observation a cluster, labeled 1-4."
   ]
  },
  {
   "cell_type": "code",
   "execution_count": 26,
   "metadata": {},
   "outputs": [],
   "source": [
    "# Performing a cluster analysis.\n",
    "data.d = cbind(dummify(data.filtered[,'incorp.q1', drop=FALSE]), dummify(data.filtered[,'state.q1', drop=FALSE]))\n",
    "data.d$incorp.q1 = NULL\n",
    "data.d$state.q1 = NULL\n",
    "set.seed(12345)\n",
    "data.d$cluster = kmeans(data.d, centers=4)$cluster\n"
   ]
  },
  {
   "cell_type": "markdown",
   "metadata": {},
   "source": [
    "### Transform the Data"
   ]
  },
  {
   "cell_type": "markdown",
   "metadata": {},
   "source": [
    "Finally, I'll add cluster, PC1, PC2, and growth to the data."
   ]
  },
  {
   "cell_type": "code",
   "execution_count": 27,
   "metadata": {},
   "outputs": [
    {
     "data": {
      "text/html": [
       "<table>\n",
       "<thead><tr><th scope=col>observations</th><th scope=col>variables</th></tr></thead>\n",
       "<tbody>\n",
       "\t<tr><td>4305</td><td>927 </td></tr>\n",
       "</tbody>\n",
       "</table>\n"
      ],
      "text/latex": [
       "\\begin{tabular}{r|ll}\n",
       " observations & variables\\\\\n",
       "\\hline\n",
       "\t 4305 & 927 \\\\\n",
       "\\end{tabular}\n"
      ],
      "text/markdown": [
       "\n",
       "| observations | variables |\n",
       "|---|---|\n",
       "| 4305 | 927  |\n",
       "\n"
      ],
      "text/plain": [
       "  observations variables\n",
       "1 4305         927      "
      ]
     },
     "metadata": {},
     "output_type": "display_data"
    }
   ],
   "source": [
    "# Adding in cluster, PC1, PC2, and growth.\n",
    "\n",
    "data.filtered$cluster = data.d$cluster\n",
    "data.filtered$PC1 = princ[,'PC1']\n",
    "data.filtered$PC2 = princ[,'PC2']\n",
    "\n",
    "\n",
    "data.filtered$growth = fund$growth\n",
    "size(data.filtered)"
   ]
  },
  {
   "cell_type": "markdown",
   "metadata": {},
   "source": [
    "## Model for Prediction"
   ]
  },
  {
   "cell_type": "markdown",
   "metadata": {},
   "source": [
    "### Build Model"
   ]
  },
  {
   "cell_type": "markdown",
   "metadata": {},
   "source": [
    "Here we train a linear model to predict growth given PC1, PC2, and cluster."
   ]
  },
  {
   "cell_type": "code",
   "execution_count": 28,
   "metadata": {},
   "outputs": [
    {
     "data": {
      "text/html": [
       "<table>\n",
       "<thead><tr><th></th><th scope=col>model.coefficients</th></tr></thead>\n",
       "<tbody>\n",
       "\t<tr><th scope=row>(Intercept)</th><td>-0.1462353728</td></tr>\n",
       "\t<tr><th scope=row>PC1</th><td> 0.0001644893</td></tr>\n",
       "\t<tr><th scope=row>PC2</th><td> 0.0006777451</td></tr>\n",
       "\t<tr><th scope=row>cluster</th><td> 0.0124914774</td></tr>\n",
       "</tbody>\n",
       "</table>\n"
      ],
      "text/latex": [
       "\\begin{tabular}{r|l}\n",
       "  & model.coefficients\\\\\n",
       "\\hline\n",
       "\t(Intercept) & -0.1462353728\\\\\n",
       "\tPC1 &  0.0001644893\\\\\n",
       "\tPC2 &  0.0006777451\\\\\n",
       "\tcluster &  0.0124914774\\\\\n",
       "\\end{tabular}\n"
      ],
      "text/markdown": [
       "\n",
       "| <!--/--> | model.coefficients |\n",
       "|---|---|\n",
       "| (Intercept) | -0.1462353728 |\n",
       "| PC1 |  0.0001644893 |\n",
       "| PC2 |  0.0006777451 |\n",
       "| cluster |  0.0124914774 |\n",
       "\n"
      ],
      "text/plain": [
       "            model.coefficients\n",
       "(Intercept) -0.1462353728     \n",
       "PC1          0.0001644893     \n",
       "PC2          0.0006777451     \n",
       "cluster      0.0124914774     "
      ]
     },
     "metadata": {},
     "output_type": "display_data"
    }
   ],
   "source": [
    "# Constructing a model to predict growth or big_growth.\n",
    "\n",
    "model = lm(growth ~ PC1+PC2+cluster, data.filtered)\n",
    "data.frame(model$coefficients)"
   ]
  },
  {
   "cell_type": "markdown",
   "metadata": {},
   "source": [
    "### In-Sample Estimated Performance"
   ]
  },
  {
   "cell_type": "markdown",
   "metadata": {},
   "source": [
    "Let's take a look at our estimated in-sample performance, or profit."
   ]
  },
  {
   "cell_type": "code",
   "execution_count": 40,
   "metadata": {},
   "outputs": [
    {
     "data": {
      "text/html": [
       "-46714.4217985375"
      ],
      "text/latex": [
       "-46714.4217985375"
      ],
      "text/markdown": [
       "-46714.4217985375"
      ],
      "text/plain": [
       "[1] -46714.42"
      ]
     },
     "metadata": {},
     "output_type": "display_data"
    }
   ],
   "source": [
    "# Presenting the model's in-sample estimated profit and profit rate.\n",
    "cutoff = .6\n",
    "prob = predict(model, data.filtered)\n",
    "\n",
    "data.filtered$prediction = prob\n",
    "data.ordered = data.filtered[order(-data.filtered$prediction),]\n",
    "profit = mean(data.ordered[1:12, 'prediction']) * budget\n",
    "profit"
   ]
  },
  {
   "cell_type": "markdown",
   "metadata": {},
   "source": [
    "Interesting, our model predicts a negative number. This might be due to a problem with the intercept. "
   ]
  },
  {
   "cell_type": "markdown",
   "metadata": {},
   "source": [
    "## Model Summary\n",
    "\n"
   ]
  },
  {
   "cell_type": "code",
   "execution_count": 59,
   "metadata": {},
   "outputs": [
    {
     "data": {
      "text/plain": [
       "\n",
       "Call:\n",
       "lm(formula = growth ~ PC1 + PC2 + cluster, data = data.filtered)\n",
       "\n",
       "Residuals:\n",
       "    Min      1Q  Median      3Q     Max \n",
       "-0.8872 -0.2176 -0.0262  0.1413 10.3520 \n",
       "\n",
       "Coefficients:\n",
       "              Estimate Std. Error t value Pr(>|t|)    \n",
       "(Intercept) -0.1462354  0.0157594  -9.279   <2e-16 ***\n",
       "PC1          0.0001645  0.0005589   0.294   0.7685    \n",
       "PC2          0.0006777  0.0009705   0.698   0.4850    \n",
       "cluster      0.0124915  0.0063466   1.968   0.0491 *  \n",
       "---\n",
       "Signif. codes:  0 ‘***’ 0.001 ‘**’ 0.01 ‘*’ 0.05 ‘.’ 0.1 ‘ ’ 1\n",
       "\n",
       "Residual standard error: 0.4688 on 4301 degrees of freedom\n",
       "Multiple R-squared:  0.001057,\tAdjusted R-squared:  0.0003606 \n",
       "F-statistic: 1.518 on 3 and 4301 DF,  p-value: 0.2078\n"
      ]
     },
     "metadata": {},
     "output_type": "display_data"
    }
   ],
   "source": [
    "summary(model)"
   ]
  },
  {
   "cell_type": "markdown",
   "metadata": {},
   "source": [
    "## Deploying the Model"
   ]
  },
  {
   "cell_type": "markdown",
   "metadata": {},
   "source": [
    "### Retrieve Investment Opportunities"
   ]
  },
  {
   "cell_type": "code",
   "execution_count": 60,
   "metadata": {},
   "outputs": [
    {
     "data": {
      "text/html": [
       "<table>\n",
       "<thead><tr><th scope=col>observations</th><th scope=col>variables</th></tr></thead>\n",
       "<tbody>\n",
       "\t<tr><td>230</td><td>3  </td></tr>\n",
       "</tbody>\n",
       "</table>\n"
      ],
      "text/latex": [
       "\\begin{tabular}{r|ll}\n",
       " observations & variables\\\\\n",
       "\\hline\n",
       "\t 230 & 3  \\\\\n",
       "\\end{tabular}\n"
      ],
      "text/markdown": [
       "\n",
       "| observations | variables |\n",
       "|---|---|\n",
       "| 230 | 3   |\n",
       "\n"
      ],
      "text/plain": [
       "  observations variables\n",
       "1 230          3        "
      ]
     },
     "metadata": {},
     "output_type": "display_data"
    },
    {
     "data": {
      "text/html": [
       "<table>\n",
       "<thead><tr><th scope=col>gvkey</th><th scope=col>tic</th><th scope=col>conm</th></tr></thead>\n",
       "<tbody>\n",
       "\t<tr><td>  1004                      </td><td>AIR                         </td><td>AAR CORP                    </td></tr>\n",
       "\t<tr><td> 10549                      </td><td>THO                         </td><td>THOR INDUSTRIES INC         </td></tr>\n",
       "\t<tr><td>106133                      </td><td>DSU                         </td><td>BLACKROCK DEBT STRATEGIES FD</td></tr>\n",
       "\t<tr><td> 10618                      </td><td>TTC                         </td><td>TORO CO                     </td></tr>\n",
       "\t<tr><td> 11178                      </td><td>VLGEA                       </td><td>VILLAGE SUPER MARKET  -CL A </td></tr>\n",
       "\t<tr><td>111873                      </td><td>RH                          </td><td>RH                          </td></tr>\n",
       "</tbody>\n",
       "</table>\n"
      ],
      "text/latex": [
       "\\begin{tabular}{r|lll}\n",
       " gvkey & tic & conm\\\\\n",
       "\\hline\n",
       "\t   1004                       & AIR                          & AAR CORP                    \\\\\n",
       "\t  10549                       & THO                          & THOR INDUSTRIES INC         \\\\\n",
       "\t 106133                       & DSU                          & BLACKROCK DEBT STRATEGIES FD\\\\\n",
       "\t  10618                       & TTC                          & TORO CO                     \\\\\n",
       "\t  11178                       & VLGEA                        & VILLAGE SUPER MARKET  -CL A \\\\\n",
       "\t 111873                       & RH                           & RH                          \\\\\n",
       "\\end{tabular}\n"
      ],
      "text/markdown": [
       "\n",
       "| gvkey | tic | conm |\n",
       "|---|---|---|\n",
       "|   1004                       | AIR                          | AAR CORP                     |\n",
       "|  10549                       | THO                          | THOR INDUSTRIES INC          |\n",
       "| 106133                       | DSU                          | BLACKROCK DEBT STRATEGIES FD |\n",
       "|  10618                       | TTC                          | TORO CO                      |\n",
       "|  11178                       | VLGEA                        | VILLAGE SUPER MARKET  -CL A  |\n",
       "| 111873                       | RH                           | RH                           |\n",
       "\n"
      ],
      "text/plain": [
       "  gvkey  tic   conm                        \n",
       "1   1004 AIR   AAR CORP                    \n",
       "2  10549 THO   THOR INDUSTRIES INC         \n",
       "3 106133 DSU   BLACKROCK DEBT STRATEGIES FD\n",
       "4  10618 TTC   TORO CO                     \n",
       "5  11178 VLGEA VILLAGE SUPER MARKET  -CL A \n",
       "6 111873 RH    RH                          "
      ]
     },
     "metadata": {},
     "output_type": "display_data"
    }
   ],
   "source": [
    "data.opportunities = read.csv(\"Investment Opportunities.csv\", header=TRUE)\n",
    "size(data.opportunities)\n",
    "data.opportunities[1:6,]"
   ]
  },
  {
   "cell_type": "markdown",
   "metadata": {},
   "source": [
    "### Selected Data for 2018"
   ]
  },
  {
   "cell_type": "markdown",
   "metadata": {},
   "source": [
    "#### Retrieving Raw Test Data"
   ]
  },
  {
   "cell_type": "code",
   "execution_count": 62,
   "metadata": {},
   "outputs": [
    {
     "data": {
      "text/html": [
       "<table><tr><td style=\"background-color:white; vertical-align:top; padding-right:40px;\"><table>\n",
       " <thead>\n",
       "  <tr>\n",
       "   <th style=\"text-align:right;background-color: #FFFFFF !important;\"> observations </th>\n",
       "   <th style=\"text-align:right;background-color: #FFFFFF !important;\"> variables </th>\n",
       "  </tr>\n",
       " </thead>\n",
       "<tbody>\n",
       "  <tr>\n",
       "   <td style=\"text-align:right;\"> 35728 </td>\n",
       "   <td style=\"text-align:right;\"> 680 </td>\n",
       "  </tr>\n",
       "</tbody>\n",
       "</table></td><td style=\"background-color:white; vertical-align:top; padding-right:40px;\"><table>\n",
       " <thead>\n",
       "  <tr>\n",
       "   <th style=\"text-align:right;background-color: #FFFFFF !important;\"> observations </th>\n",
       "   <th style=\"text-align:right;background-color: #FFFFFF !important;\"> variables </th>\n",
       "  </tr>\n",
       " </thead>\n",
       "<tbody>\n",
       "  <tr>\n",
       "   <td style=\"text-align:right;\"> 918 </td>\n",
       "   <td style=\"text-align:right;\"> 680 </td>\n",
       "  </tr>\n",
       "</tbody>\n",
       "</table></td><td style=\"background-color:white; vertical-align:top; padding-right:40px;\"><table>\n",
       " <thead>\n",
       "  <tr>\n",
       "   <th style=\"text-align:right;background-color: #FFFFFF !important;\"> observations </th>\n",
       "   <th style=\"text-align:right;background-color: #FFFFFF !important;\"> variables </th>\n",
       "  </tr>\n",
       " </thead>\n",
       "<tbody>\n",
       "  <tr>\n",
       "   <td style=\"text-align:right;\"> 4305 </td>\n",
       "   <td style=\"text-align:right;\"> 928 </td>\n",
       "  </tr>\n",
       "</tbody>\n",
       "</table></td><td style=\"background-color:white; vertical-align:top;\"><table>\n",
       " <thead>\n",
       "  <tr>\n",
       "   <th style=\"text-align:right;background-color: #FFFFFF !important;\"> observations </th>\n",
       "   <th style=\"text-align:right;background-color: #FFFFFF !important;\"> variables </th>\n",
       "  </tr>\n",
       " </thead>\n",
       "<tbody>\n",
       "  <tr>\n",
       "   <td style=\"text-align:right;\"> 196 </td>\n",
       "   <td style=\"text-align:right;\"> 928 </td>\n",
       "  </tr>\n",
       "</tbody>\n",
       "</table></td></tr></table>"
      ]
     },
     "metadata": {},
     "output_type": "display_data"
    }
   ],
   "source": [
    "# Retrieving the 2018 data \n",
    "\n",
    "fund_18.f = fund_18[fund_18$gvkey %in% data.opportunities$gvkey,]\n",
    "data.filtered.f = data.filtered[data.filtered$gvkey %in% data.opportunities$gvkey,]\n",
    "layout(size(fund_18), size(fund_18.f), size(data.filtered), size(data.filtered.f))"
   ]
  },
  {
   "cell_type": "markdown",
   "metadata": {},
   "source": [
    "### Applying the Model"
   ]
  },
  {
   "cell_type": "markdown",
   "metadata": {},
   "source": [
    "In this cell, I'll generate a recommended a portfolio of allocations to 12 companies stored as a data.frame"
   ]
  },
  {
   "cell_type": "code",
   "execution_count": 77,
   "metadata": {},
   "outputs": [
    {
     "data": {
      "text/html": [
       "<table>\n",
       "<thead><tr><th></th><th scope=col>gvkey</th><th scope=col>tic</th><th scope=col>conm</th><th scope=col>allocation</th></tr></thead>\n",
       "<tbody>\n",
       "\t<tr><th scope=row>174</th><td>  3504              </td><td>COO                 </td><td>COOPER COS INC (THE)</td><td>83333.33            </td></tr>\n",
       "\t<tr><th scope=row>3259</th><td>147708              </td><td>CVGW                </td><td>CALAVO GROWERS INC  </td><td>83333.33            </td></tr>\n",
       "\t<tr><th scope=row>2017</th><td> 27928              </td><td>INTU                </td><td>INTUIT INC          </td><td>83333.33            </td></tr>\n",
       "\t<tr><th scope=row>739</th><td> 11511              </td><td>WSM                 </td><td>WILLIAMS-SONOMA INC </td><td>83333.33            </td></tr>\n",
       "\t<tr><th scope=row>3018</th><td>118267              </td><td>KFY                 </td><td>KORN FERRY          </td><td>83333.33            </td></tr>\n",
       "\t<tr><th scope=row>3662</th><td>176362              </td><td>AVAV                </td><td>AEROVIRONMENT INC   </td><td>83333.33            </td></tr>\n",
       "</tbody>\n",
       "</table>\n"
      ],
      "text/latex": [
       "\\begin{tabular}{r|llll}\n",
       "  & gvkey & tic & conm & allocation\\\\\n",
       "\\hline\n",
       "\t174 &   3504               & COO                  & COOPER COS INC (THE) & 83333.33            \\\\\n",
       "\t3259 & 147708               & CVGW                 & CALAVO GROWERS INC   & 83333.33            \\\\\n",
       "\t2017 &  27928               & INTU                 & INTUIT INC           & 83333.33            \\\\\n",
       "\t739 &  11511               & WSM                  & WILLIAMS-SONOMA INC  & 83333.33            \\\\\n",
       "\t3018 & 118267               & KFY                  & KORN FERRY           & 83333.33            \\\\\n",
       "\t3662 & 176362               & AVAV                 & AEROVIRONMENT INC    & 83333.33            \\\\\n",
       "\\end{tabular}\n"
      ],
      "text/markdown": [
       "\n",
       "| <!--/--> | gvkey | tic | conm | allocation |\n",
       "|---|---|---|---|---|\n",
       "| 174 |   3504               | COO                  | COOPER COS INC (THE) | 83333.33             |\n",
       "| 3259 | 147708               | CVGW                 | CALAVO GROWERS INC   | 83333.33             |\n",
       "| 2017 |  27928               | INTU                 | INTUIT INC           | 83333.33             |\n",
       "| 739 |  11511               | WSM                  | WILLIAMS-SONOMA INC  | 83333.33             |\n",
       "| 3018 | 118267               | KFY                  | KORN FERRY           | 83333.33             |\n",
       "| 3662 | 176362               | AVAV                 | AEROVIRONMENT INC    | 83333.33             |\n",
       "\n"
      ],
      "text/plain": [
       "     gvkey  tic  conm                 allocation\n",
       "174    3504 COO  COOPER COS INC (THE) 83333.33  \n",
       "3259 147708 CVGW CALAVO GROWERS INC   83333.33  \n",
       "2017  27928 INTU INTUIT INC           83333.33  \n",
       "739   11511 WSM  WILLIAMS-SONOMA INC  83333.33  \n",
       "3018 118267 KFY  KORN FERRY           83333.33  \n",
       "3662 176362 AVAV AEROVIRONMENT INC    83333.33  "
      ]
     },
     "metadata": {},
     "output_type": "display_data"
    }
   ],
   "source": [
    "# Presenting the portfolio recommendation.\n",
    "data.ordered = data.filtered.f[order(-data.filtered.f$prediction),]\n",
    "portfolio = data.ordered[1:12, c('gvkey', 'tic', 'conm')]\n",
    "portfolio$allocation = budget / 12\n",
    "head(portfolio)"
   ]
  },
  {
   "cell_type": "markdown",
   "metadata": {},
   "source": [
    "### Write Portfolio Recommendation"
   ]
  },
  {
   "cell_type": "markdown",
   "metadata": {},
   "source": [
    "This cell will export the recommended portfolio to a csv file."
   ]
  },
  {
   "cell_type": "code",
   "execution_count": 78,
   "metadata": {},
   "outputs": [],
   "source": [
    "write.csv(portfolio, paste0(analyst, \".csv\"), row.names=FALSE)"
   ]
  }
 ],
 "metadata": {
  "hide_code_all_hidden": false,
  "hide_input": false,
  "kernelspec": {
   "display_name": "R",
   "language": "R",
   "name": "ir"
  },
  "language_info": {
   "codemirror_mode": "r",
   "file_extension": ".r",
   "mimetype": "text/x-r-source",
   "name": "R",
   "pygments_lexer": "r",
   "version": "3.5.1"
  },
  "toc": {
   "base_numbering": 1,
   "nav_menu": {},
   "number_sections": true,
   "sideBar": true,
   "skip_h1_title": true,
   "title_cell": "Table of Contents",
   "title_sidebar": "Contents",
   "toc_cell": false,
   "toc_position": {
    "height": "calc(100% - 180px)",
    "left": "10px",
    "top": "150px",
    "width": "272.4px"
   },
   "toc_section_display": true,
   "toc_window_display": true
  }
 },
 "nbformat": 4,
 "nbformat_minor": 2
}
